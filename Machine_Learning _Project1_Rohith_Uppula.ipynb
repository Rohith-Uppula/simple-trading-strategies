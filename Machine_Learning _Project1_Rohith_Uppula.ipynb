{
 "cells": [
  {
   "cell_type": "code",
   "execution_count": 54,
   "id": "46bdf89e",
   "metadata": {},
   "outputs": [],
   "source": [
    "import yfinance as yf\n",
    "import numpy as np\n",
    "import pandas as pd\n",
    "import seaborn as sns\n",
    "import matplotlib.pyplot as plt\n",
    "from sklearn.metrics import accuracy_score,recall_score,f1_score,precision_score\n",
    "import sklearn.metrics as metrics\n",
    "from sklearn.metrics import confusion_matrix\n",
    "from sklearn.svm import SVC\n",
    "from sklearn.neighbors import KNeighborsClassifier\n",
    "from sklearn.ensemble import RandomForestClassifier\n",
    "from sklearn.datasets import make_hastie_10_2\n",
    "from sklearn.ensemble import GradientBoostingClassifier\n",
    "from sklearn.pipeline import make_pipeline\n",
    "from sklearn.preprocessing import StandardScaler\n",
    "from xgboost import XGBClassifier"
   ]
  },
  {
   "cell_type": "code",
   "execution_count": 2,
   "id": "a72d12b5",
   "metadata": {},
   "outputs": [
    {
     "name": "stdout",
     "output_type": "stream",
     "text": [
      "[*********************100%***********************]  1 of 1 completed\n"
     ]
    }
   ],
   "source": [
    "spy_data = yf.download(\"SPY\", start=\"2015-01-01\", end=\"2021-12-31\")"
   ]
  },
  {
   "cell_type": "code",
   "execution_count": 3,
   "id": "402f26b2",
   "metadata": {},
   "outputs": [
    {
     "data": {
      "text/html": [
       "<div>\n",
       "<style scoped>\n",
       "    .dataframe tbody tr th:only-of-type {\n",
       "        vertical-align: middle;\n",
       "    }\n",
       "\n",
       "    .dataframe tbody tr th {\n",
       "        vertical-align: top;\n",
       "    }\n",
       "\n",
       "    .dataframe thead th {\n",
       "        text-align: right;\n",
       "    }\n",
       "</style>\n",
       "<table border=\"1\" class=\"dataframe\">\n",
       "  <thead>\n",
       "    <tr style=\"text-align: right;\">\n",
       "      <th></th>\n",
       "      <th>Open</th>\n",
       "      <th>High</th>\n",
       "      <th>Low</th>\n",
       "      <th>Close</th>\n",
       "      <th>Adj Close</th>\n",
       "      <th>Volume</th>\n",
       "    </tr>\n",
       "    <tr>\n",
       "      <th>Date</th>\n",
       "      <th></th>\n",
       "      <th></th>\n",
       "      <th></th>\n",
       "      <th></th>\n",
       "      <th></th>\n",
       "      <th></th>\n",
       "    </tr>\n",
       "  </thead>\n",
       "  <tbody>\n",
       "    <tr>\n",
       "      <th>2015-01-02</th>\n",
       "      <td>206.380005</td>\n",
       "      <td>206.880005</td>\n",
       "      <td>204.179993</td>\n",
       "      <td>205.429993</td>\n",
       "      <td>180.342667</td>\n",
       "      <td>121465900</td>\n",
       "    </tr>\n",
       "    <tr>\n",
       "      <th>2015-01-05</th>\n",
       "      <td>204.169998</td>\n",
       "      <td>204.369995</td>\n",
       "      <td>201.350006</td>\n",
       "      <td>201.720001</td>\n",
       "      <td>177.085770</td>\n",
       "      <td>169632600</td>\n",
       "    </tr>\n",
       "    <tr>\n",
       "      <th>2015-01-06</th>\n",
       "      <td>202.089996</td>\n",
       "      <td>202.720001</td>\n",
       "      <td>198.860001</td>\n",
       "      <td>199.820007</td>\n",
       "      <td>175.417740</td>\n",
       "      <td>209151400</td>\n",
       "    </tr>\n",
       "    <tr>\n",
       "      <th>2015-01-07</th>\n",
       "      <td>201.419998</td>\n",
       "      <td>202.720001</td>\n",
       "      <td>200.880005</td>\n",
       "      <td>202.309998</td>\n",
       "      <td>177.603714</td>\n",
       "      <td>125346700</td>\n",
       "    </tr>\n",
       "    <tr>\n",
       "      <th>2015-01-08</th>\n",
       "      <td>204.009995</td>\n",
       "      <td>206.160004</td>\n",
       "      <td>203.990005</td>\n",
       "      <td>205.899994</td>\n",
       "      <td>180.755249</td>\n",
       "      <td>147217800</td>\n",
       "    </tr>\n",
       "    <tr>\n",
       "      <th>...</th>\n",
       "      <td>...</td>\n",
       "      <td>...</td>\n",
       "      <td>...</td>\n",
       "      <td>...</td>\n",
       "      <td>...</td>\n",
       "      <td>...</td>\n",
       "    </tr>\n",
       "    <tr>\n",
       "      <th>2021-12-23</th>\n",
       "      <td>468.750000</td>\n",
       "      <td>472.190002</td>\n",
       "      <td>468.640015</td>\n",
       "      <td>470.600006</td>\n",
       "      <td>470.600006</td>\n",
       "      <td>56439700</td>\n",
       "    </tr>\n",
       "    <tr>\n",
       "      <th>2021-12-27</th>\n",
       "      <td>472.059998</td>\n",
       "      <td>477.309998</td>\n",
       "      <td>472.010010</td>\n",
       "      <td>477.260010</td>\n",
       "      <td>477.260010</td>\n",
       "      <td>56808600</td>\n",
       "    </tr>\n",
       "    <tr>\n",
       "      <th>2021-12-28</th>\n",
       "      <td>477.720001</td>\n",
       "      <td>478.809998</td>\n",
       "      <td>476.059998</td>\n",
       "      <td>476.869995</td>\n",
       "      <td>476.869995</td>\n",
       "      <td>47274600</td>\n",
       "    </tr>\n",
       "    <tr>\n",
       "      <th>2021-12-29</th>\n",
       "      <td>476.980011</td>\n",
       "      <td>478.559998</td>\n",
       "      <td>475.920013</td>\n",
       "      <td>477.480011</td>\n",
       "      <td>477.480011</td>\n",
       "      <td>54503000</td>\n",
       "    </tr>\n",
       "    <tr>\n",
       "      <th>2021-12-30</th>\n",
       "      <td>477.929993</td>\n",
       "      <td>479.000000</td>\n",
       "      <td>475.670013</td>\n",
       "      <td>476.160004</td>\n",
       "      <td>476.160004</td>\n",
       "      <td>55329000</td>\n",
       "    </tr>\n",
       "  </tbody>\n",
       "</table>\n",
       "<p>1762 rows × 6 columns</p>\n",
       "</div>"
      ],
      "text/plain": [
       "                  Open        High         Low       Close   Adj Close  \\\n",
       "Date                                                                     \n",
       "2015-01-02  206.380005  206.880005  204.179993  205.429993  180.342667   \n",
       "2015-01-05  204.169998  204.369995  201.350006  201.720001  177.085770   \n",
       "2015-01-06  202.089996  202.720001  198.860001  199.820007  175.417740   \n",
       "2015-01-07  201.419998  202.720001  200.880005  202.309998  177.603714   \n",
       "2015-01-08  204.009995  206.160004  203.990005  205.899994  180.755249   \n",
       "...                ...         ...         ...         ...         ...   \n",
       "2021-12-23  468.750000  472.190002  468.640015  470.600006  470.600006   \n",
       "2021-12-27  472.059998  477.309998  472.010010  477.260010  477.260010   \n",
       "2021-12-28  477.720001  478.809998  476.059998  476.869995  476.869995   \n",
       "2021-12-29  476.980011  478.559998  475.920013  477.480011  477.480011   \n",
       "2021-12-30  477.929993  479.000000  475.670013  476.160004  476.160004   \n",
       "\n",
       "               Volume  \n",
       "Date                   \n",
       "2015-01-02  121465900  \n",
       "2015-01-05  169632600  \n",
       "2015-01-06  209151400  \n",
       "2015-01-07  125346700  \n",
       "2015-01-08  147217800  \n",
       "...               ...  \n",
       "2021-12-23   56439700  \n",
       "2021-12-27   56808600  \n",
       "2021-12-28   47274600  \n",
       "2021-12-29   54503000  \n",
       "2021-12-30   55329000  \n",
       "\n",
       "[1762 rows x 6 columns]"
      ]
     },
     "execution_count": 3,
     "metadata": {},
     "output_type": "execute_result"
    }
   ],
   "source": [
    "spy_data"
   ]
  },
  {
   "cell_type": "code",
   "execution_count": 4,
   "id": "2bd38538",
   "metadata": {},
   "outputs": [],
   "source": [
    "ds=spy_data.copy()"
   ]
  },
  {
   "cell_type": "code",
   "execution_count": 5,
   "id": "287e3297",
   "metadata": {},
   "outputs": [
    {
     "data": {
      "text/html": [
       "<div>\n",
       "<style scoped>\n",
       "    .dataframe tbody tr th:only-of-type {\n",
       "        vertical-align: middle;\n",
       "    }\n",
       "\n",
       "    .dataframe tbody tr th {\n",
       "        vertical-align: top;\n",
       "    }\n",
       "\n",
       "    .dataframe thead th {\n",
       "        text-align: right;\n",
       "    }\n",
       "</style>\n",
       "<table border=\"1\" class=\"dataframe\">\n",
       "  <thead>\n",
       "    <tr style=\"text-align: right;\">\n",
       "      <th></th>\n",
       "      <th>Open</th>\n",
       "      <th>High</th>\n",
       "      <th>Low</th>\n",
       "      <th>Close</th>\n",
       "      <th>Adj Close</th>\n",
       "      <th>Volume</th>\n",
       "    </tr>\n",
       "    <tr>\n",
       "      <th>Date</th>\n",
       "      <th></th>\n",
       "      <th></th>\n",
       "      <th></th>\n",
       "      <th></th>\n",
       "      <th></th>\n",
       "      <th></th>\n",
       "    </tr>\n",
       "  </thead>\n",
       "  <tbody>\n",
       "    <tr>\n",
       "      <th>2015-01-02</th>\n",
       "      <td>206.380005</td>\n",
       "      <td>206.880005</td>\n",
       "      <td>204.179993</td>\n",
       "      <td>205.429993</td>\n",
       "      <td>180.342667</td>\n",
       "      <td>121465900</td>\n",
       "    </tr>\n",
       "    <tr>\n",
       "      <th>2015-01-05</th>\n",
       "      <td>204.169998</td>\n",
       "      <td>204.369995</td>\n",
       "      <td>201.350006</td>\n",
       "      <td>201.720001</td>\n",
       "      <td>177.085770</td>\n",
       "      <td>169632600</td>\n",
       "    </tr>\n",
       "    <tr>\n",
       "      <th>2015-01-06</th>\n",
       "      <td>202.089996</td>\n",
       "      <td>202.720001</td>\n",
       "      <td>198.860001</td>\n",
       "      <td>199.820007</td>\n",
       "      <td>175.417740</td>\n",
       "      <td>209151400</td>\n",
       "    </tr>\n",
       "    <tr>\n",
       "      <th>2015-01-07</th>\n",
       "      <td>201.419998</td>\n",
       "      <td>202.720001</td>\n",
       "      <td>200.880005</td>\n",
       "      <td>202.309998</td>\n",
       "      <td>177.603714</td>\n",
       "      <td>125346700</td>\n",
       "    </tr>\n",
       "    <tr>\n",
       "      <th>2015-01-08</th>\n",
       "      <td>204.009995</td>\n",
       "      <td>206.160004</td>\n",
       "      <td>203.990005</td>\n",
       "      <td>205.899994</td>\n",
       "      <td>180.755249</td>\n",
       "      <td>147217800</td>\n",
       "    </tr>\n",
       "    <tr>\n",
       "      <th>...</th>\n",
       "      <td>...</td>\n",
       "      <td>...</td>\n",
       "      <td>...</td>\n",
       "      <td>...</td>\n",
       "      <td>...</td>\n",
       "      <td>...</td>\n",
       "    </tr>\n",
       "    <tr>\n",
       "      <th>2021-12-23</th>\n",
       "      <td>468.750000</td>\n",
       "      <td>472.190002</td>\n",
       "      <td>468.640015</td>\n",
       "      <td>470.600006</td>\n",
       "      <td>470.600006</td>\n",
       "      <td>56439700</td>\n",
       "    </tr>\n",
       "    <tr>\n",
       "      <th>2021-12-27</th>\n",
       "      <td>472.059998</td>\n",
       "      <td>477.309998</td>\n",
       "      <td>472.010010</td>\n",
       "      <td>477.260010</td>\n",
       "      <td>477.260010</td>\n",
       "      <td>56808600</td>\n",
       "    </tr>\n",
       "    <tr>\n",
       "      <th>2021-12-28</th>\n",
       "      <td>477.720001</td>\n",
       "      <td>478.809998</td>\n",
       "      <td>476.059998</td>\n",
       "      <td>476.869995</td>\n",
       "      <td>476.869995</td>\n",
       "      <td>47274600</td>\n",
       "    </tr>\n",
       "    <tr>\n",
       "      <th>2021-12-29</th>\n",
       "      <td>476.980011</td>\n",
       "      <td>478.559998</td>\n",
       "      <td>475.920013</td>\n",
       "      <td>477.480011</td>\n",
       "      <td>477.480011</td>\n",
       "      <td>54503000</td>\n",
       "    </tr>\n",
       "    <tr>\n",
       "      <th>2021-12-30</th>\n",
       "      <td>477.929993</td>\n",
       "      <td>479.000000</td>\n",
       "      <td>475.670013</td>\n",
       "      <td>476.160004</td>\n",
       "      <td>476.160004</td>\n",
       "      <td>55329000</td>\n",
       "    </tr>\n",
       "  </tbody>\n",
       "</table>\n",
       "<p>1762 rows × 6 columns</p>\n",
       "</div>"
      ],
      "text/plain": [
       "                  Open        High         Low       Close   Adj Close  \\\n",
       "Date                                                                     \n",
       "2015-01-02  206.380005  206.880005  204.179993  205.429993  180.342667   \n",
       "2015-01-05  204.169998  204.369995  201.350006  201.720001  177.085770   \n",
       "2015-01-06  202.089996  202.720001  198.860001  199.820007  175.417740   \n",
       "2015-01-07  201.419998  202.720001  200.880005  202.309998  177.603714   \n",
       "2015-01-08  204.009995  206.160004  203.990005  205.899994  180.755249   \n",
       "...                ...         ...         ...         ...         ...   \n",
       "2021-12-23  468.750000  472.190002  468.640015  470.600006  470.600006   \n",
       "2021-12-27  472.059998  477.309998  472.010010  477.260010  477.260010   \n",
       "2021-12-28  477.720001  478.809998  476.059998  476.869995  476.869995   \n",
       "2021-12-29  476.980011  478.559998  475.920013  477.480011  477.480011   \n",
       "2021-12-30  477.929993  479.000000  475.670013  476.160004  476.160004   \n",
       "\n",
       "               Volume  \n",
       "Date                   \n",
       "2015-01-02  121465900  \n",
       "2015-01-05  169632600  \n",
       "2015-01-06  209151400  \n",
       "2015-01-07  125346700  \n",
       "2015-01-08  147217800  \n",
       "...               ...  \n",
       "2021-12-23   56439700  \n",
       "2021-12-27   56808600  \n",
       "2021-12-28   47274600  \n",
       "2021-12-29   54503000  \n",
       "2021-12-30   55329000  \n",
       "\n",
       "[1762 rows x 6 columns]"
      ]
     },
     "execution_count": 5,
     "metadata": {},
     "output_type": "execute_result"
    }
   ],
   "source": [
    "ds"
   ]
  },
  {
   "cell_type": "code",
   "execution_count": 6,
   "id": "4bf2a43b",
   "metadata": {},
   "outputs": [
    {
     "name": "stderr",
     "output_type": "stream",
     "text": [
      "C:\\Users\\rohit\\AppData\\Local\\Temp/ipykernel_10728/3897570604.py:2: FutureWarning: this method is deprecated in favour of `Styler.format(precision=..)`\n",
      "  corr.style.background_gradient(cmap='coolwarm').set_precision(2)\n"
     ]
    },
    {
     "data": {
      "image/png": "[encoded data removed]",
      "text/plain": [
       "<Figure size 432x288 with 2 Axes>"
      ]
     },
     "metadata": {
      "needs_background": "light"
     },
     "output_type": "display_data"
    }
   ],
   "source": [
    "corr = ds.corr()\n",
    "corr.style.background_gradient(cmap='coolwarm').set_precision(2)\n",
    "sns.heatmap(corr, annot=True)\n",
    "plt.rcParams[\"figure.figsize\"]=(200,100)\n",
    "plt.show()"
   ]
  },
  {
   "cell_type": "code",
   "execution_count": 7,
   "id": "3b868066",
   "metadata": {},
   "outputs": [],
   "source": [
    "from sklearn.preprocessing import MinMaxScaler\n",
    "scaler = MinMaxScaler()\n",
    "scaler.fit(ds)\n",
    "scaled = scaler.fit_transform(ds)\n",
    "scaled_ds = pd.DataFrame(scaled, columns=ds.columns)"
   ]
  },
  {
   "cell_type": "code",
   "execution_count": 8,
   "id": "027705a3",
   "metadata": {},
   "outputs": [
    {
     "data": {
      "text/html": [
       "<div>\n",
       "<style scoped>\n",
       "    .dataframe tbody tr th:only-of-type {\n",
       "        vertical-align: middle;\n",
       "    }\n",
       "\n",
       "    .dataframe tbody tr th {\n",
       "        vertical-align: top;\n",
       "    }\n",
       "\n",
       "    .dataframe thead th {\n",
       "        text-align: right;\n",
       "    }\n",
       "</style>\n",
       "<table border=\"1\" class=\"dataframe\">\n",
       "  <thead>\n",
       "    <tr style=\"text-align: right;\">\n",
       "      <th></th>\n",
       "      <th>Open</th>\n",
       "      <th>High</th>\n",
       "      <th>Low</th>\n",
       "      <th>Close</th>\n",
       "      <th>Adj Close</th>\n",
       "      <th>Volume</th>\n",
       "    </tr>\n",
       "  </thead>\n",
       "  <tbody>\n",
       "    <tr>\n",
       "      <th>0</th>\n",
       "      <td>0.081329</td>\n",
       "      <td>0.077247</td>\n",
       "      <td>0.078498</td>\n",
       "      <td>0.076607</td>\n",
       "      <td>0.052612</td>\n",
       "      <td>0.207805</td>\n",
       "    </tr>\n",
       "    <tr>\n",
       "      <th>1</th>\n",
       "      <td>0.073852</td>\n",
       "      <td>0.068735</td>\n",
       "      <td>0.068906</td>\n",
       "      <td>0.064015</td>\n",
       "      <td>0.042228</td>\n",
       "      <td>0.306716</td>\n",
       "    </tr>\n",
       "    <tr>\n",
       "      <th>2</th>\n",
       "      <td>0.066816</td>\n",
       "      <td>0.063140</td>\n",
       "      <td>0.060466</td>\n",
       "      <td>0.057566</td>\n",
       "      <td>0.036909</td>\n",
       "      <td>0.387867</td>\n",
       "    </tr>\n",
       "    <tr>\n",
       "      <th>3</th>\n",
       "      <td>0.064549</td>\n",
       "      <td>0.063140</td>\n",
       "      <td>0.067313</td>\n",
       "      <td>0.066017</td>\n",
       "      <td>0.043879</td>\n",
       "      <td>0.215775</td>\n",
       "    </tr>\n",
       "    <tr>\n",
       "      <th>4</th>\n",
       "      <td>0.073311</td>\n",
       "      <td>0.074805</td>\n",
       "      <td>0.077854</td>\n",
       "      <td>0.078202</td>\n",
       "      <td>0.053928</td>\n",
       "      <td>0.260687</td>\n",
       "    </tr>\n",
       "    <tr>\n",
       "      <th>...</th>\n",
       "      <td>...</td>\n",
       "      <td>...</td>\n",
       "      <td>...</td>\n",
       "      <td>...</td>\n",
       "      <td>...</td>\n",
       "      <td>...</td>\n",
       "    </tr>\n",
       "    <tr>\n",
       "      <th>1757</th>\n",
       "      <td>0.968943</td>\n",
       "      <td>0.976907</td>\n",
       "      <td>0.974851</td>\n",
       "      <td>0.976648</td>\n",
       "      <td>0.978064</td>\n",
       "      <td>0.074274</td>\n",
       "    </tr>\n",
       "    <tr>\n",
       "      <th>1758</th>\n",
       "      <td>0.980141</td>\n",
       "      <td>0.994269</td>\n",
       "      <td>0.986273</td>\n",
       "      <td>0.999253</td>\n",
       "      <td>0.999299</td>\n",
       "      <td>0.075032</td>\n",
       "    </tr>\n",
       "    <tr>\n",
       "      <th>1759</th>\n",
       "      <td>0.999290</td>\n",
       "      <td>0.999356</td>\n",
       "      <td>1.000000</td>\n",
       "      <td>0.997929</td>\n",
       "      <td>0.998055</td>\n",
       "      <td>0.055454</td>\n",
       "    </tr>\n",
       "    <tr>\n",
       "      <th>1760</th>\n",
       "      <td>0.996786</td>\n",
       "      <td>0.998508</td>\n",
       "      <td>0.999526</td>\n",
       "      <td>1.000000</td>\n",
       "      <td>1.000000</td>\n",
       "      <td>0.070297</td>\n",
       "    </tr>\n",
       "    <tr>\n",
       "      <th>1761</th>\n",
       "      <td>1.000000</td>\n",
       "      <td>1.000000</td>\n",
       "      <td>0.998678</td>\n",
       "      <td>0.995520</td>\n",
       "      <td>0.995791</td>\n",
       "      <td>0.071994</td>\n",
       "    </tr>\n",
       "  </tbody>\n",
       "</table>\n",
       "<p>1762 rows × 6 columns</p>\n",
       "</div>"
      ],
      "text/plain": [
       "          Open      High       Low     Close  Adj Close    Volume\n",
       "0     0.081329  0.077247  0.078498  0.076607   0.052612  0.207805\n",
       "1     0.073852  0.068735  0.068906  0.064015   0.042228  0.306716\n",
       "2     0.066816  0.063140  0.060466  0.057566   0.036909  0.387867\n",
       "3     0.064549  0.063140  0.067313  0.066017   0.043879  0.215775\n",
       "4     0.073311  0.074805  0.077854  0.078202   0.053928  0.260687\n",
       "...        ...       ...       ...       ...        ...       ...\n",
       "1757  0.968943  0.976907  0.974851  0.976648   0.978064  0.074274\n",
       "1758  0.980141  0.994269  0.986273  0.999253   0.999299  0.075032\n",
       "1759  0.999290  0.999356  1.000000  0.997929   0.998055  0.055454\n",
       "1760  0.996786  0.998508  0.999526  1.000000   1.000000  0.070297\n",
       "1761  1.000000  1.000000  0.998678  0.995520   0.995791  0.071994\n",
       "\n",
       "[1762 rows x 6 columns]"
      ]
     },
     "execution_count": 8,
     "metadata": {},
     "output_type": "execute_result"
    }
   ],
   "source": [
    "scaled_ds"
   ]
  },
  {
   "cell_type": "code",
   "execution_count": 9,
   "id": "ccd37b3d",
   "metadata": {},
   "outputs": [],
   "source": [
    "y = np.where(spy_data['Close'].shift(-1) > spy_data['Close'], 1, -1)"
   ]
  },
  {
   "cell_type": "code",
   "execution_count": 10,
   "id": "a42ef7f5",
   "metadata": {},
   "outputs": [],
   "source": [
    "scaled_ds['y']=y"
   ]
  },
  {
   "cell_type": "markdown",
   "id": "a6f58245",
   "metadata": {},
   "source": [
    "### Strategy 1 "
   ]
  },
  {
   "cell_type": "code",
   "execution_count": 11,
   "id": "aa770df8",
   "metadata": {},
   "outputs": [
    {
     "data": {
      "text/html": [
       "<div>\n",
       "<style scoped>\n",
       "    .dataframe tbody tr th:only-of-type {\n",
       "        vertical-align: middle;\n",
       "    }\n",
       "\n",
       "    .dataframe tbody tr th {\n",
       "        vertical-align: top;\n",
       "    }\n",
       "\n",
       "    .dataframe thead th {\n",
       "        text-align: right;\n",
       "    }\n",
       "</style>\n",
       "<table border=\"1\" class=\"dataframe\">\n",
       "  <thead>\n",
       "    <tr style=\"text-align: right;\">\n",
       "      <th></th>\n",
       "      <th>Open</th>\n",
       "      <th>High</th>\n",
       "      <th>Low</th>\n",
       "      <th>Close</th>\n",
       "      <th>Adj Close</th>\n",
       "      <th>Volume</th>\n",
       "      <th>y</th>\n",
       "    </tr>\n",
       "  </thead>\n",
       "  <tbody>\n",
       "    <tr>\n",
       "      <th>0</th>\n",
       "      <td>0.081329</td>\n",
       "      <td>0.077247</td>\n",
       "      <td>0.078498</td>\n",
       "      <td>0.076607</td>\n",
       "      <td>0.052612</td>\n",
       "      <td>0.207805</td>\n",
       "      <td>-1</td>\n",
       "    </tr>\n",
       "    <tr>\n",
       "      <th>1</th>\n",
       "      <td>0.073852</td>\n",
       "      <td>0.068735</td>\n",
       "      <td>0.068906</td>\n",
       "      <td>0.064015</td>\n",
       "      <td>0.042228</td>\n",
       "      <td>0.306716</td>\n",
       "      <td>-1</td>\n",
       "    </tr>\n",
       "    <tr>\n",
       "      <th>2</th>\n",
       "      <td>0.066816</td>\n",
       "      <td>0.063140</td>\n",
       "      <td>0.060466</td>\n",
       "      <td>0.057566</td>\n",
       "      <td>0.036909</td>\n",
       "      <td>0.387867</td>\n",
       "      <td>1</td>\n",
       "    </tr>\n",
       "    <tr>\n",
       "      <th>3</th>\n",
       "      <td>0.064549</td>\n",
       "      <td>0.063140</td>\n",
       "      <td>0.067313</td>\n",
       "      <td>0.066017</td>\n",
       "      <td>0.043879</td>\n",
       "      <td>0.215775</td>\n",
       "      <td>1</td>\n",
       "    </tr>\n",
       "    <tr>\n",
       "      <th>4</th>\n",
       "      <td>0.073311</td>\n",
       "      <td>0.074805</td>\n",
       "      <td>0.077854</td>\n",
       "      <td>0.078202</td>\n",
       "      <td>0.053928</td>\n",
       "      <td>0.260687</td>\n",
       "      <td>-1</td>\n",
       "    </tr>\n",
       "    <tr>\n",
       "      <th>...</th>\n",
       "      <td>...</td>\n",
       "      <td>...</td>\n",
       "      <td>...</td>\n",
       "      <td>...</td>\n",
       "      <td>...</td>\n",
       "      <td>...</td>\n",
       "      <td>...</td>\n",
       "    </tr>\n",
       "    <tr>\n",
       "      <th>1757</th>\n",
       "      <td>0.968943</td>\n",
       "      <td>0.976907</td>\n",
       "      <td>0.974851</td>\n",
       "      <td>0.976648</td>\n",
       "      <td>0.978064</td>\n",
       "      <td>0.074274</td>\n",
       "      <td>1</td>\n",
       "    </tr>\n",
       "    <tr>\n",
       "      <th>1758</th>\n",
       "      <td>0.980141</td>\n",
       "      <td>0.994269</td>\n",
       "      <td>0.986273</td>\n",
       "      <td>0.999253</td>\n",
       "      <td>0.999299</td>\n",
       "      <td>0.075032</td>\n",
       "      <td>-1</td>\n",
       "    </tr>\n",
       "    <tr>\n",
       "      <th>1759</th>\n",
       "      <td>0.999290</td>\n",
       "      <td>0.999356</td>\n",
       "      <td>1.000000</td>\n",
       "      <td>0.997929</td>\n",
       "      <td>0.998055</td>\n",
       "      <td>0.055454</td>\n",
       "      <td>1</td>\n",
       "    </tr>\n",
       "    <tr>\n",
       "      <th>1760</th>\n",
       "      <td>0.996786</td>\n",
       "      <td>0.998508</td>\n",
       "      <td>0.999526</td>\n",
       "      <td>1.000000</td>\n",
       "      <td>1.000000</td>\n",
       "      <td>0.070297</td>\n",
       "      <td>-1</td>\n",
       "    </tr>\n",
       "    <tr>\n",
       "      <th>1761</th>\n",
       "      <td>1.000000</td>\n",
       "      <td>1.000000</td>\n",
       "      <td>0.998678</td>\n",
       "      <td>0.995520</td>\n",
       "      <td>0.995791</td>\n",
       "      <td>0.071994</td>\n",
       "      <td>-1</td>\n",
       "    </tr>\n",
       "  </tbody>\n",
       "</table>\n",
       "<p>1762 rows × 7 columns</p>\n",
       "</div>"
      ],
      "text/plain": [
       "          Open      High       Low     Close  Adj Close    Volume  y\n",
       "0     0.081329  0.077247  0.078498  0.076607   0.052612  0.207805 -1\n",
       "1     0.073852  0.068735  0.068906  0.064015   0.042228  0.306716 -1\n",
       "2     0.066816  0.063140  0.060466  0.057566   0.036909  0.387867  1\n",
       "3     0.064549  0.063140  0.067313  0.066017   0.043879  0.215775  1\n",
       "4     0.073311  0.074805  0.077854  0.078202   0.053928  0.260687 -1\n",
       "...        ...       ...       ...       ...        ...       ... ..\n",
       "1757  0.968943  0.976907  0.974851  0.976648   0.978064  0.074274  1\n",
       "1758  0.980141  0.994269  0.986273  0.999253   0.999299  0.075032 -1\n",
       "1759  0.999290  0.999356  1.000000  0.997929   0.998055  0.055454  1\n",
       "1760  0.996786  0.998508  0.999526  1.000000   1.000000  0.070297 -1\n",
       "1761  1.000000  1.000000  0.998678  0.995520   0.995791  0.071994 -1\n",
       "\n",
       "[1762 rows x 7 columns]"
      ]
     },
     "execution_count": 11,
     "metadata": {},
     "output_type": "execute_result"
    }
   ],
   "source": [
    "scaled_ds"
   ]
  },
  {
   "cell_type": "code",
   "execution_count": 135,
   "id": "1f6c4c9f",
   "metadata": {},
   "outputs": [
    {
     "name": "stderr",
     "output_type": "stream",
     "text": [
      "C:\\Users\\rohit\\AppData\\Local\\Temp/ipykernel_10728/1850089926.py:2: FutureWarning: this method is deprecated in favour of `Styler.format(precision=..)`\n",
      "  corr.style.background_gradient(cmap='coolwarm').set_precision(2)\n"
     ]
    },
    {
     "data": {
      "image/png": "[encoded data removed]",
      "text/plain": [
       "<Figure size 1440x720 with 2 Axes>"
      ]
     },
     "metadata": {
      "needs_background": "light"
     },
     "output_type": "display_data"
    }
   ],
   "source": [
    "corr = scaled_ds.corr()\n",
    "corr.style.background_gradient(cmap='coolwarm').set_precision(2)\n",
    "sns.heatmap(corr, annot=True)\n",
    "plt.rcParams[\"figure.figsize\"]=(2,1)\n",
    "plt.show()"
   ]
  },
  {
   "cell_type": "code",
   "execution_count": 13,
   "id": "ded87318",
   "metadata": {},
   "outputs": [
    {
     "data": {
      "text/plain": [
       "<AxesSubplot:>"
      ]
     },
     "execution_count": 13,
     "metadata": {},
     "output_type": "execute_result"
    },
    {
     "data": {
      "image/png": "[encoded data removed]",
      "text/plain": [
       "<Figure size 1152x432 with 1 Axes>"
      ]
     },
     "metadata": {
      "needs_background": "light"
     },
     "output_type": "display_data"
    }
   ],
   "source": [
    "scaled_ds['Close'].plot(figsize=(16,6))"
   ]
  },
  {
   "cell_type": "code",
   "execution_count": 14,
   "id": "645a4221",
   "metadata": {},
   "outputs": [],
   "source": [
    "y1=scaled_ds['y']\n",
    "x1=scaled_ds.drop(columns=['y'])"
   ]
  },
  {
   "cell_type": "code",
   "execution_count": 15,
   "id": "b1174631",
   "metadata": {},
   "outputs": [
    {
     "data": {
      "text/plain": [
       "((1409, 6), (353, 6), (1409,), (353,))"
      ]
     },
     "execution_count": 15,
     "metadata": {},
     "output_type": "execute_result"
    }
   ],
   "source": [
    "from sklearn.model_selection import train_test_split\n",
    "x1_train,x1_val,y1_train,y1_val=train_test_split(x1,y1,test_size=0.2,stratify=scaled_ds['y'],random_state=42)\n",
    "x1_train.shape,x1_val.shape,y1_train.shape,y1_val.shape"
   ]
  },
  {
   "cell_type": "markdown",
   "id": "f62d5bd0",
   "metadata": {},
   "source": [
    "### KNN "
   ]
  },
  {
   "cell_type": "code",
   "execution_count": 136,
   "id": "9c46f97c",
   "metadata": {},
   "outputs": [
    {
     "name": "stdout",
     "output_type": "stream",
     "text": [
      "Accuracy : 0.46175637393767704\n",
      "Precision : 0.5435897435897435\n",
      "Recall : 0.5435897435897435\n",
      "F1 Score : 0.527363184079602\n"
     ]
    }
   ],
   "source": [
    "from sklearn.neighbors import KNeighborsClassifier\n",
    "neigh = KNeighborsClassifier(n_neighbors=5)\n",
    "neigh.fit(x1_train, y1_train)\n",
    "neigh_preds=neigh.predict(x1_val)\n",
    "print('Accuracy : {}'.format(accuracy_score(y1_val, neigh_preds)))\n",
    "print('Precision : {}'.format(precision_score(neigh_preds,y1_val)))\n",
    "print('Recall : {}'.format(recall_score(y1_val, neigh_preds)))\n",
    "print('F1 Score : {}'.format(f1_score(y1_val, neigh_preds)))"
   ]
  },
  {
   "cell_type": "code",
   "execution_count": 87,
   "id": "a54da5ea",
   "metadata": {},
   "outputs": [
    {
     "name": "stdout",
     "output_type": "stream",
     "text": [
      "Confusion Matrix Of KNeighbors :\n",
      " [[ 50 108]\n",
      " [ 67 128]]\n"
     ]
    }
   ],
   "source": [
    "print('Confusion Matrix Of KNeighbors :\\n',(confusion_matrix(y1_val,neigh_preds)))"
   ]
  },
  {
   "cell_type": "markdown",
   "id": "4ed76b0e",
   "metadata": {},
   "source": [
    "### RandomForestClassifier"
   ]
  },
  {
   "cell_type": "code",
   "execution_count": 88,
   "id": "e79beeb2",
   "metadata": {},
   "outputs": [
    {
     "name": "stdout",
     "output_type": "stream",
     "text": [
      "Random Forest\n",
      "Accuracy : 0.5354107648725213\n",
      "Precision : 0.5714285714285714\n",
      "Recall : 0.6358974358974359\n",
      "F1 Score : 0.6019417475728155\n"
     ]
    }
   ],
   "source": [
    "from sklearn.ensemble import RandomForestClassifier\n",
    "rf = RandomForestClassifier(max_depth=None, random_state=0,n_estimators=100)\n",
    "rf.fit(x1_train, y1_train)\n",
    "rf_preds=rf.predict(x1_val)\n",
    "print('Random Forest')\n",
    "print('Accuracy : {}'.format(accuracy_score(y1_val, rf_preds)))\n",
    "print('Precision : {}'.format(precision_score(y1_val, rf_preds)))\n",
    "print('Recall : {}'.format(recall_score(y1_val, rf_preds)))\n",
    "print('F1 Score : {}'.format(f1_score(y1_val, rf_preds)))"
   ]
  },
  {
   "cell_type": "code",
   "execution_count": null,
   "id": "eb23faff",
   "metadata": {},
   "outputs": [],
   "source": []
  },
  {
   "cell_type": "code",
   "execution_count": 89,
   "id": "d9b2b2b5",
   "metadata": {},
   "outputs": [
    {
     "name": "stdout",
     "output_type": "stream",
     "text": [
      "Confusion Matrix Of RandomForest :\n",
      " [[ 65  93]\n",
      " [ 71 124]]\n"
     ]
    }
   ],
   "source": [
    "print('Confusion Matrix Of RandomForest :\\n',(confusion_matrix(y1_val,rf_preds)))"
   ]
  },
  {
   "cell_type": "markdown",
   "id": "2f505e53",
   "metadata": {},
   "source": [
    "### GradientBoostingClassifier"
   ]
  },
  {
   "cell_type": "code",
   "execution_count": 90,
   "id": "e3e5bc1c",
   "metadata": {},
   "outputs": [
    {
     "name": "stdout",
     "output_type": "stream",
     "text": [
      "Accuracy : 0.5354107648725213\n",
      "Precision : 0.5584905660377358\n",
      "Recall : 0.7589743589743589\n",
      "F1 Score : 0.6434782608695653\n"
     ]
    }
   ],
   "source": [
    "from sklearn.datasets import make_hastie_10_2\n",
    "from sklearn.ensemble import GradientBoostingClassifier\n",
    "gbc = GradientBoostingClassifier(n_estimators=100, learning_rate=1.0,max_depth=1, random_state=0)\n",
    "gbc.fit(x1_train, y1_train)\n",
    "gbc_preds=gbc.predict(x1_val)\n",
    "print('Accuracy : {}'.format(accuracy_score(y1_val, gbc_preds)))\n",
    "print('Precision : {}'.format(precision_score(y1_val, gbc_preds)))\n",
    "print('Recall : {}'.format(recall_score(y1_val, gbc_preds)))\n",
    "print('F1 Score : {}'.format(f1_score(y1_val, gbc_preds)))"
   ]
  },
  {
   "cell_type": "code",
   "execution_count": 91,
   "id": "349ebec4",
   "metadata": {},
   "outputs": [
    {
     "name": "stdout",
     "output_type": "stream",
     "text": [
      "Confusion Matrix Of GradientBoostingClassifier :\n",
      " [[ 41 117]\n",
      " [ 47 148]]\n"
     ]
    }
   ],
   "source": [
    "print('Confusion Matrix Of GradientBoostingClassifier :\\n',(confusion_matrix(y1_val,gbc_preds)))"
   ]
  },
  {
   "cell_type": "markdown",
   "id": "da40a6c3",
   "metadata": {},
   "source": [
    "### SVC"
   ]
  },
  {
   "cell_type": "code",
   "execution_count": 92,
   "id": "428196a4",
   "metadata": {},
   "outputs": [
    {
     "name": "stdout",
     "output_type": "stream",
     "text": [
      "Accuracy : 0.5552407932011332\n",
      "Precision : 0.560126582278481\n",
      "Recall : 0.9076923076923077\n",
      "F1 Score : 0.6927592954990216\n"
     ]
    }
   ],
   "source": [
    "from sklearn.pipeline import make_pipeline\n",
    "from sklearn.preprocessing import StandardScaler\n",
    "from sklearn.svm import SVC\n",
    "clf = make_pipeline(StandardScaler(), SVC())\n",
    "clf.fit(x1_train, y1_train)\n",
    "clf_preds=clf.predict(x1_val)\n",
    "print('Accuracy : {}'.format(accuracy_score(y1_val, clf_preds)))\n",
    "print('Precision : {}'.format(precision_score(y1_val, clf_preds)))\n",
    "print('Recall : {}'.format(recall_score(y1_val, clf_preds)))\n",
    "print('F1 Score : {}'.format(f1_score(y1_val, clf_preds)))"
   ]
  },
  {
   "cell_type": "code",
   "execution_count": 93,
   "id": "36ba20a7",
   "metadata": {},
   "outputs": [
    {
     "name": "stdout",
     "output_type": "stream",
     "text": [
      "Confusion Matrix Of Support Vector Machines :\n",
      " [[ 19 139]\n",
      " [ 18 177]]\n"
     ]
    }
   ],
   "source": [
    "print('Confusion Matrix Of Support Vector Machines :\\n',(confusion_matrix(y1_val,clf_preds)))"
   ]
  },
  {
   "cell_type": "markdown",
   "id": "24ff102f",
   "metadata": {},
   "source": [
    "### XGBClassifier"
   ]
  },
  {
   "cell_type": "code",
   "execution_count": 94,
   "id": "c5acdfbe",
   "metadata": {},
   "outputs": [
    {
     "name": "stderr",
     "output_type": "stream",
     "text": [
      "C:\\Users\\rohit\\anaconda3\\lib\\site-packages\\xgboost\\sklearn.py:1224: UserWarning: The use of label encoder in XGBClassifier is deprecated and will be removed in a future release. To remove this warning, do the following: 1) Pass option use_label_encoder=False when constructing XGBClassifier object; and 2) Encode your labels (y) as integers starting with 0, i.e. 0, 1, 2, ..., [num_class - 1].\n",
      "  warnings.warn(label_encoder_deprecation_msg, UserWarning)\n"
     ]
    },
    {
     "name": "stdout",
     "output_type": "stream",
     "text": [
      "[19:39:08] WARNING: C:/Users/Administrator/workspace/xgboost-win64_release_1.5.1/src/learner.cc:1115: Starting in XGBoost 1.3.0, the default evaluation metric used with the objective 'binary:logistic' was changed from 'error' to 'logloss'. Explicitly set eval_metric if you'd like to restore the old behavior.\n",
      "Accuracy : 0.49291784702549574\n",
      "Precision : 0.536697247706422\n",
      "Recall : 0.6\n",
      "F1 Score : 0.5665859564164649\n"
     ]
    }
   ],
   "source": [
    "from xgboost import XGBClassifier\n",
    "xgb=XGBClassifier()\n",
    "xgb.fit(x1_train, y1_train)\n",
    "xgb_preds=xgb.predict(x1_val)\n",
    "print('Accuracy : {}'.format(accuracy_score(y1_val, xgb_preds)))\n",
    "print('Precision : {}'.format(precision_score(y1_val, xgb_preds)))\n",
    "print('Recall : {}'.format(recall_score(y1_val, xgb_preds)))\n",
    "print('F1 Score : {}'.format(f1_score(y1_val, xgb_preds)))"
   ]
  },
  {
   "cell_type": "code",
   "execution_count": 95,
   "id": "3aeebffd",
   "metadata": {},
   "outputs": [
    {
     "name": "stdout",
     "output_type": "stream",
     "text": [
      "Confusion Matrix Of Gradient Boosting Classifier :\n",
      " [[ 57 101]\n",
      " [ 78 117]]\n"
     ]
    }
   ],
   "source": [
    "print('Confusion Matrix Of Gradient Boosting Classifier :\\n',(confusion_matrix(y1_val,xgb_preds)))"
   ]
  },
  {
   "cell_type": "markdown",
   "id": "5c262305",
   "metadata": {},
   "source": [
    "### Strategy 2 "
   ]
  },
  {
   "cell_type": "code",
   "execution_count": 96,
   "id": "64d59fad",
   "metadata": {},
   "outputs": [],
   "source": [
    "sat2=spy_data"
   ]
  },
  {
   "cell_type": "code",
   "execution_count": 97,
   "id": "bf7200d1",
   "metadata": {},
   "outputs": [
    {
     "data": {
      "text/html": [
       "<div>\n",
       "<style scoped>\n",
       "    .dataframe tbody tr th:only-of-type {\n",
       "        vertical-align: middle;\n",
       "    }\n",
       "\n",
       "    .dataframe tbody tr th {\n",
       "        vertical-align: top;\n",
       "    }\n",
       "\n",
       "    .dataframe thead th {\n",
       "        text-align: right;\n",
       "    }\n",
       "</style>\n",
       "<table border=\"1\" class=\"dataframe\">\n",
       "  <thead>\n",
       "    <tr style=\"text-align: right;\">\n",
       "      <th></th>\n",
       "      <th>Open</th>\n",
       "      <th>High</th>\n",
       "      <th>Low</th>\n",
       "      <th>Close</th>\n",
       "      <th>Adj Close</th>\n",
       "      <th>Volume</th>\n",
       "      <th>50MDA</th>\n",
       "      <th>200MDA</th>\n",
       "    </tr>\n",
       "    <tr>\n",
       "      <th>Date</th>\n",
       "      <th></th>\n",
       "      <th></th>\n",
       "      <th></th>\n",
       "      <th></th>\n",
       "      <th></th>\n",
       "      <th></th>\n",
       "      <th></th>\n",
       "      <th></th>\n",
       "    </tr>\n",
       "  </thead>\n",
       "  <tbody>\n",
       "    <tr>\n",
       "      <th>2015-01-02</th>\n",
       "      <td>206.380005</td>\n",
       "      <td>206.880005</td>\n",
       "      <td>204.179993</td>\n",
       "      <td>205.429993</td>\n",
       "      <td>180.342667</td>\n",
       "      <td>121465900</td>\n",
       "      <td>NaN</td>\n",
       "      <td>NaN</td>\n",
       "    </tr>\n",
       "    <tr>\n",
       "      <th>2015-01-05</th>\n",
       "      <td>204.169998</td>\n",
       "      <td>204.369995</td>\n",
       "      <td>201.350006</td>\n",
       "      <td>201.720001</td>\n",
       "      <td>177.085770</td>\n",
       "      <td>169632600</td>\n",
       "      <td>NaN</td>\n",
       "      <td>NaN</td>\n",
       "    </tr>\n",
       "    <tr>\n",
       "      <th>2015-01-06</th>\n",
       "      <td>202.089996</td>\n",
       "      <td>202.720001</td>\n",
       "      <td>198.860001</td>\n",
       "      <td>199.820007</td>\n",
       "      <td>175.417740</td>\n",
       "      <td>209151400</td>\n",
       "      <td>NaN</td>\n",
       "      <td>NaN</td>\n",
       "    </tr>\n",
       "    <tr>\n",
       "      <th>2015-01-07</th>\n",
       "      <td>201.419998</td>\n",
       "      <td>202.720001</td>\n",
       "      <td>200.880005</td>\n",
       "      <td>202.309998</td>\n",
       "      <td>177.603714</td>\n",
       "      <td>125346700</td>\n",
       "      <td>NaN</td>\n",
       "      <td>NaN</td>\n",
       "    </tr>\n",
       "    <tr>\n",
       "      <th>2015-01-08</th>\n",
       "      <td>204.009995</td>\n",
       "      <td>206.160004</td>\n",
       "      <td>203.990005</td>\n",
       "      <td>205.899994</td>\n",
       "      <td>180.755249</td>\n",
       "      <td>147217800</td>\n",
       "      <td>NaN</td>\n",
       "      <td>NaN</td>\n",
       "    </tr>\n",
       "    <tr>\n",
       "      <th>...</th>\n",
       "      <td>...</td>\n",
       "      <td>...</td>\n",
       "      <td>...</td>\n",
       "      <td>...</td>\n",
       "      <td>...</td>\n",
       "      <td>...</td>\n",
       "      <td>...</td>\n",
       "      <td>...</td>\n",
       "    </tr>\n",
       "    <tr>\n",
       "      <th>2021-12-23</th>\n",
       "      <td>468.750000</td>\n",
       "      <td>472.190002</td>\n",
       "      <td>468.640015</td>\n",
       "      <td>470.600006</td>\n",
       "      <td>470.600006</td>\n",
       "      <td>56439700</td>\n",
       "      <td>461.747801</td>\n",
       "      <td>435.16185</td>\n",
       "    </tr>\n",
       "    <tr>\n",
       "      <th>2021-12-27</th>\n",
       "      <td>472.059998</td>\n",
       "      <td>477.309998</td>\n",
       "      <td>472.010010</td>\n",
       "      <td>477.260010</td>\n",
       "      <td>477.260010</td>\n",
       "      <td>56808600</td>\n",
       "      <td>462.443001</td>\n",
       "      <td>435.57785</td>\n",
       "    </tr>\n",
       "    <tr>\n",
       "      <th>2021-12-28</th>\n",
       "      <td>477.720001</td>\n",
       "      <td>478.809998</td>\n",
       "      <td>476.059998</td>\n",
       "      <td>476.869995</td>\n",
       "      <td>476.869995</td>\n",
       "      <td>47274600</td>\n",
       "      <td>463.063001</td>\n",
       "      <td>435.98015</td>\n",
       "    </tr>\n",
       "    <tr>\n",
       "      <th>2021-12-29</th>\n",
       "      <td>476.980011</td>\n",
       "      <td>478.559998</td>\n",
       "      <td>475.920013</td>\n",
       "      <td>477.480011</td>\n",
       "      <td>477.480011</td>\n",
       "      <td>54503000</td>\n",
       "      <td>463.668801</td>\n",
       "      <td>436.38800</td>\n",
       "    </tr>\n",
       "    <tr>\n",
       "      <th>2021-12-30</th>\n",
       "      <td>477.929993</td>\n",
       "      <td>479.000000</td>\n",
       "      <td>475.670013</td>\n",
       "      <td>476.160004</td>\n",
       "      <td>476.160004</td>\n",
       "      <td>55329000</td>\n",
       "      <td>464.179201</td>\n",
       "      <td>436.78250</td>\n",
       "    </tr>\n",
       "  </tbody>\n",
       "</table>\n",
       "<p>1762 rows × 8 columns</p>\n",
       "</div>"
      ],
      "text/plain": [
       "                  Open        High         Low       Close   Adj Close  \\\n",
       "Date                                                                     \n",
       "2015-01-02  206.380005  206.880005  204.179993  205.429993  180.342667   \n",
       "2015-01-05  204.169998  204.369995  201.350006  201.720001  177.085770   \n",
       "2015-01-06  202.089996  202.720001  198.860001  199.820007  175.417740   \n",
       "2015-01-07  201.419998  202.720001  200.880005  202.309998  177.603714   \n",
       "2015-01-08  204.009995  206.160004  203.990005  205.899994  180.755249   \n",
       "...                ...         ...         ...         ...         ...   \n",
       "2021-12-23  468.750000  472.190002  468.640015  470.600006  470.600006   \n",
       "2021-12-27  472.059998  477.309998  472.010010  477.260010  477.260010   \n",
       "2021-12-28  477.720001  478.809998  476.059998  476.869995  476.869995   \n",
       "2021-12-29  476.980011  478.559998  475.920013  477.480011  477.480011   \n",
       "2021-12-30  477.929993  479.000000  475.670013  476.160004  476.160004   \n",
       "\n",
       "               Volume       50MDA     200MDA  \n",
       "Date                                          \n",
       "2015-01-02  121465900         NaN        NaN  \n",
       "2015-01-05  169632600         NaN        NaN  \n",
       "2015-01-06  209151400         NaN        NaN  \n",
       "2015-01-07  125346700         NaN        NaN  \n",
       "2015-01-08  147217800         NaN        NaN  \n",
       "...               ...         ...        ...  \n",
       "2021-12-23   56439700  461.747801  435.16185  \n",
       "2021-12-27   56808600  462.443001  435.57785  \n",
       "2021-12-28   47274600  463.063001  435.98015  \n",
       "2021-12-29   54503000  463.668801  436.38800  \n",
       "2021-12-30   55329000  464.179201  436.78250  \n",
       "\n",
       "[1762 rows x 8 columns]"
      ]
     },
     "execution_count": 97,
     "metadata": {},
     "output_type": "execute_result"
    }
   ],
   "source": [
    "sat2"
   ]
  },
  {
   "cell_type": "code",
   "execution_count": 98,
   "id": "38a718fc",
   "metadata": {},
   "outputs": [],
   "source": [
    "sat2['50MDA']=sat2['Close'].rolling(50).mean()\n",
    "sat2['200MDA']=sat2['Close'].rolling(200).mean()"
   ]
  },
  {
   "cell_type": "code",
   "execution_count": 99,
   "id": "6bf25422",
   "metadata": {},
   "outputs": [
    {
     "data": {
      "text/html": [
       "<div>\n",
       "<style scoped>\n",
       "    .dataframe tbody tr th:only-of-type {\n",
       "        vertical-align: middle;\n",
       "    }\n",
       "\n",
       "    .dataframe tbody tr th {\n",
       "        vertical-align: top;\n",
       "    }\n",
       "\n",
       "    .dataframe thead th {\n",
       "        text-align: right;\n",
       "    }\n",
       "</style>\n",
       "<table border=\"1\" class=\"dataframe\">\n",
       "  <thead>\n",
       "    <tr style=\"text-align: right;\">\n",
       "      <th></th>\n",
       "      <th>Open</th>\n",
       "      <th>High</th>\n",
       "      <th>Low</th>\n",
       "      <th>Close</th>\n",
       "      <th>Adj Close</th>\n",
       "      <th>Volume</th>\n",
       "      <th>50MDA</th>\n",
       "      <th>200MDA</th>\n",
       "    </tr>\n",
       "    <tr>\n",
       "      <th>Date</th>\n",
       "      <th></th>\n",
       "      <th></th>\n",
       "      <th></th>\n",
       "      <th></th>\n",
       "      <th></th>\n",
       "      <th></th>\n",
       "      <th></th>\n",
       "      <th></th>\n",
       "    </tr>\n",
       "  </thead>\n",
       "  <tbody>\n",
       "    <tr>\n",
       "      <th>2015-01-02</th>\n",
       "      <td>206.380005</td>\n",
       "      <td>206.880005</td>\n",
       "      <td>204.179993</td>\n",
       "      <td>205.429993</td>\n",
       "      <td>180.342667</td>\n",
       "      <td>121465900</td>\n",
       "      <td>NaN</td>\n",
       "      <td>NaN</td>\n",
       "    </tr>\n",
       "    <tr>\n",
       "      <th>2015-01-05</th>\n",
       "      <td>204.169998</td>\n",
       "      <td>204.369995</td>\n",
       "      <td>201.350006</td>\n",
       "      <td>201.720001</td>\n",
       "      <td>177.085770</td>\n",
       "      <td>169632600</td>\n",
       "      <td>NaN</td>\n",
       "      <td>NaN</td>\n",
       "    </tr>\n",
       "    <tr>\n",
       "      <th>2015-01-06</th>\n",
       "      <td>202.089996</td>\n",
       "      <td>202.720001</td>\n",
       "      <td>198.860001</td>\n",
       "      <td>199.820007</td>\n",
       "      <td>175.417740</td>\n",
       "      <td>209151400</td>\n",
       "      <td>NaN</td>\n",
       "      <td>NaN</td>\n",
       "    </tr>\n",
       "    <tr>\n",
       "      <th>2015-01-07</th>\n",
       "      <td>201.419998</td>\n",
       "      <td>202.720001</td>\n",
       "      <td>200.880005</td>\n",
       "      <td>202.309998</td>\n",
       "      <td>177.603714</td>\n",
       "      <td>125346700</td>\n",
       "      <td>NaN</td>\n",
       "      <td>NaN</td>\n",
       "    </tr>\n",
       "    <tr>\n",
       "      <th>2015-01-08</th>\n",
       "      <td>204.009995</td>\n",
       "      <td>206.160004</td>\n",
       "      <td>203.990005</td>\n",
       "      <td>205.899994</td>\n",
       "      <td>180.755249</td>\n",
       "      <td>147217800</td>\n",
       "      <td>NaN</td>\n",
       "      <td>NaN</td>\n",
       "    </tr>\n",
       "    <tr>\n",
       "      <th>...</th>\n",
       "      <td>...</td>\n",
       "      <td>...</td>\n",
       "      <td>...</td>\n",
       "      <td>...</td>\n",
       "      <td>...</td>\n",
       "      <td>...</td>\n",
       "      <td>...</td>\n",
       "      <td>...</td>\n",
       "    </tr>\n",
       "    <tr>\n",
       "      <th>2021-12-23</th>\n",
       "      <td>468.750000</td>\n",
       "      <td>472.190002</td>\n",
       "      <td>468.640015</td>\n",
       "      <td>470.600006</td>\n",
       "      <td>470.600006</td>\n",
       "      <td>56439700</td>\n",
       "      <td>461.747801</td>\n",
       "      <td>435.16185</td>\n",
       "    </tr>\n",
       "    <tr>\n",
       "      <th>2021-12-27</th>\n",
       "      <td>472.059998</td>\n",
       "      <td>477.309998</td>\n",
       "      <td>472.010010</td>\n",
       "      <td>477.260010</td>\n",
       "      <td>477.260010</td>\n",
       "      <td>56808600</td>\n",
       "      <td>462.443001</td>\n",
       "      <td>435.57785</td>\n",
       "    </tr>\n",
       "    <tr>\n",
       "      <th>2021-12-28</th>\n",
       "      <td>477.720001</td>\n",
       "      <td>478.809998</td>\n",
       "      <td>476.059998</td>\n",
       "      <td>476.869995</td>\n",
       "      <td>476.869995</td>\n",
       "      <td>47274600</td>\n",
       "      <td>463.063001</td>\n",
       "      <td>435.98015</td>\n",
       "    </tr>\n",
       "    <tr>\n",
       "      <th>2021-12-29</th>\n",
       "      <td>476.980011</td>\n",
       "      <td>478.559998</td>\n",
       "      <td>475.920013</td>\n",
       "      <td>477.480011</td>\n",
       "      <td>477.480011</td>\n",
       "      <td>54503000</td>\n",
       "      <td>463.668801</td>\n",
       "      <td>436.38800</td>\n",
       "    </tr>\n",
       "    <tr>\n",
       "      <th>2021-12-30</th>\n",
       "      <td>477.929993</td>\n",
       "      <td>479.000000</td>\n",
       "      <td>475.670013</td>\n",
       "      <td>476.160004</td>\n",
       "      <td>476.160004</td>\n",
       "      <td>55329000</td>\n",
       "      <td>464.179201</td>\n",
       "      <td>436.78250</td>\n",
       "    </tr>\n",
       "  </tbody>\n",
       "</table>\n",
       "<p>1762 rows × 8 columns</p>\n",
       "</div>"
      ],
      "text/plain": [
       "                  Open        High         Low       Close   Adj Close  \\\n",
       "Date                                                                     \n",
       "2015-01-02  206.380005  206.880005  204.179993  205.429993  180.342667   \n",
       "2015-01-05  204.169998  204.369995  201.350006  201.720001  177.085770   \n",
       "2015-01-06  202.089996  202.720001  198.860001  199.820007  175.417740   \n",
       "2015-01-07  201.419998  202.720001  200.880005  202.309998  177.603714   \n",
       "2015-01-08  204.009995  206.160004  203.990005  205.899994  180.755249   \n",
       "...                ...         ...         ...         ...         ...   \n",
       "2021-12-23  468.750000  472.190002  468.640015  470.600006  470.600006   \n",
       "2021-12-27  472.059998  477.309998  472.010010  477.260010  477.260010   \n",
       "2021-12-28  477.720001  478.809998  476.059998  476.869995  476.869995   \n",
       "2021-12-29  476.980011  478.559998  475.920013  477.480011  477.480011   \n",
       "2021-12-30  477.929993  479.000000  475.670013  476.160004  476.160004   \n",
       "\n",
       "               Volume       50MDA     200MDA  \n",
       "Date                                          \n",
       "2015-01-02  121465900         NaN        NaN  \n",
       "2015-01-05  169632600         NaN        NaN  \n",
       "2015-01-06  209151400         NaN        NaN  \n",
       "2015-01-07  125346700         NaN        NaN  \n",
       "2015-01-08  147217800         NaN        NaN  \n",
       "...               ...         ...        ...  \n",
       "2021-12-23   56439700  461.747801  435.16185  \n",
       "2021-12-27   56808600  462.443001  435.57785  \n",
       "2021-12-28   47274600  463.063001  435.98015  \n",
       "2021-12-29   54503000  463.668801  436.38800  \n",
       "2021-12-30   55329000  464.179201  436.78250  \n",
       "\n",
       "[1762 rows x 8 columns]"
      ]
     },
     "execution_count": 99,
     "metadata": {},
     "output_type": "execute_result"
    }
   ],
   "source": [
    "sat2"
   ]
  },
  {
   "cell_type": "code",
   "execution_count": 100,
   "id": "43be975c",
   "metadata": {},
   "outputs": [],
   "source": [
    "sat2=sat2.dropna().copy()"
   ]
  },
  {
   "cell_type": "code",
   "execution_count": 101,
   "id": "8dbcd35d",
   "metadata": {},
   "outputs": [
    {
     "data": {
      "text/html": [
       "<div>\n",
       "<style scoped>\n",
       "    .dataframe tbody tr th:only-of-type {\n",
       "        vertical-align: middle;\n",
       "    }\n",
       "\n",
       "    .dataframe tbody tr th {\n",
       "        vertical-align: top;\n",
       "    }\n",
       "\n",
       "    .dataframe thead th {\n",
       "        text-align: right;\n",
       "    }\n",
       "</style>\n",
       "<table border=\"1\" class=\"dataframe\">\n",
       "  <thead>\n",
       "    <tr style=\"text-align: right;\">\n",
       "      <th></th>\n",
       "      <th>Open</th>\n",
       "      <th>High</th>\n",
       "      <th>Low</th>\n",
       "      <th>Close</th>\n",
       "      <th>Adj Close</th>\n",
       "      <th>Volume</th>\n",
       "      <th>50MDA</th>\n",
       "      <th>200MDA</th>\n",
       "    </tr>\n",
       "    <tr>\n",
       "      <th>Date</th>\n",
       "      <th></th>\n",
       "      <th></th>\n",
       "      <th></th>\n",
       "      <th></th>\n",
       "      <th></th>\n",
       "      <th></th>\n",
       "      <th></th>\n",
       "      <th></th>\n",
       "    </tr>\n",
       "  </thead>\n",
       "  <tbody>\n",
       "    <tr>\n",
       "      <th>2015-10-16</th>\n",
       "      <td>202.830002</td>\n",
       "      <td>203.289993</td>\n",
       "      <td>201.919998</td>\n",
       "      <td>203.270004</td>\n",
       "      <td>181.051239</td>\n",
       "      <td>114580100</td>\n",
       "      <td>198.635801</td>\n",
       "      <td>206.04220</td>\n",
       "    </tr>\n",
       "    <tr>\n",
       "      <th>2015-10-19</th>\n",
       "      <td>202.500000</td>\n",
       "      <td>203.369995</td>\n",
       "      <td>202.130005</td>\n",
       "      <td>203.369995</td>\n",
       "      <td>181.140305</td>\n",
       "      <td>76523900</td>\n",
       "      <td>198.544201</td>\n",
       "      <td>206.03190</td>\n",
       "    </tr>\n",
       "    <tr>\n",
       "      <th>2015-10-20</th>\n",
       "      <td>202.850006</td>\n",
       "      <td>203.839996</td>\n",
       "      <td>202.550003</td>\n",
       "      <td>203.110001</td>\n",
       "      <td>180.908737</td>\n",
       "      <td>78448500</td>\n",
       "      <td>198.395001</td>\n",
       "      <td>206.03885</td>\n",
       "    </tr>\n",
       "    <tr>\n",
       "      <th>2015-10-21</th>\n",
       "      <td>203.610001</td>\n",
       "      <td>203.789993</td>\n",
       "      <td>201.649994</td>\n",
       "      <td>201.850006</td>\n",
       "      <td>179.786453</td>\n",
       "      <td>102038000</td>\n",
       "      <td>198.258601</td>\n",
       "      <td>206.04900</td>\n",
       "    </tr>\n",
       "    <tr>\n",
       "      <th>2015-10-22</th>\n",
       "      <td>202.979996</td>\n",
       "      <td>205.509995</td>\n",
       "      <td>201.850006</td>\n",
       "      <td>205.259995</td>\n",
       "      <td>182.823700</td>\n",
       "      <td>174911700</td>\n",
       "      <td>198.185401</td>\n",
       "      <td>206.06375</td>\n",
       "    </tr>\n",
       "    <tr>\n",
       "      <th>...</th>\n",
       "      <td>...</td>\n",
       "      <td>...</td>\n",
       "      <td>...</td>\n",
       "      <td>...</td>\n",
       "      <td>...</td>\n",
       "      <td>...</td>\n",
       "      <td>...</td>\n",
       "      <td>...</td>\n",
       "    </tr>\n",
       "    <tr>\n",
       "      <th>2021-12-23</th>\n",
       "      <td>468.750000</td>\n",
       "      <td>472.190002</td>\n",
       "      <td>468.640015</td>\n",
       "      <td>470.600006</td>\n",
       "      <td>470.600006</td>\n",
       "      <td>56439700</td>\n",
       "      <td>461.747801</td>\n",
       "      <td>435.16185</td>\n",
       "    </tr>\n",
       "    <tr>\n",
       "      <th>2021-12-27</th>\n",
       "      <td>472.059998</td>\n",
       "      <td>477.309998</td>\n",
       "      <td>472.010010</td>\n",
       "      <td>477.260010</td>\n",
       "      <td>477.260010</td>\n",
       "      <td>56808600</td>\n",
       "      <td>462.443001</td>\n",
       "      <td>435.57785</td>\n",
       "    </tr>\n",
       "    <tr>\n",
       "      <th>2021-12-28</th>\n",
       "      <td>477.720001</td>\n",
       "      <td>478.809998</td>\n",
       "      <td>476.059998</td>\n",
       "      <td>476.869995</td>\n",
       "      <td>476.869995</td>\n",
       "      <td>47274600</td>\n",
       "      <td>463.063001</td>\n",
       "      <td>435.98015</td>\n",
       "    </tr>\n",
       "    <tr>\n",
       "      <th>2021-12-29</th>\n",
       "      <td>476.980011</td>\n",
       "      <td>478.559998</td>\n",
       "      <td>475.920013</td>\n",
       "      <td>477.480011</td>\n",
       "      <td>477.480011</td>\n",
       "      <td>54503000</td>\n",
       "      <td>463.668801</td>\n",
       "      <td>436.38800</td>\n",
       "    </tr>\n",
       "    <tr>\n",
       "      <th>2021-12-30</th>\n",
       "      <td>477.929993</td>\n",
       "      <td>479.000000</td>\n",
       "      <td>475.670013</td>\n",
       "      <td>476.160004</td>\n",
       "      <td>476.160004</td>\n",
       "      <td>55329000</td>\n",
       "      <td>464.179201</td>\n",
       "      <td>436.78250</td>\n",
       "    </tr>\n",
       "  </tbody>\n",
       "</table>\n",
       "<p>1563 rows × 8 columns</p>\n",
       "</div>"
      ],
      "text/plain": [
       "                  Open        High         Low       Close   Adj Close  \\\n",
       "Date                                                                     \n",
       "2015-10-16  202.830002  203.289993  201.919998  203.270004  181.051239   \n",
       "2015-10-19  202.500000  203.369995  202.130005  203.369995  181.140305   \n",
       "2015-10-20  202.850006  203.839996  202.550003  203.110001  180.908737   \n",
       "2015-10-21  203.610001  203.789993  201.649994  201.850006  179.786453   \n",
       "2015-10-22  202.979996  205.509995  201.850006  205.259995  182.823700   \n",
       "...                ...         ...         ...         ...         ...   \n",
       "2021-12-23  468.750000  472.190002  468.640015  470.600006  470.600006   \n",
       "2021-12-27  472.059998  477.309998  472.010010  477.260010  477.260010   \n",
       "2021-12-28  477.720001  478.809998  476.059998  476.869995  476.869995   \n",
       "2021-12-29  476.980011  478.559998  475.920013  477.480011  477.480011   \n",
       "2021-12-30  477.929993  479.000000  475.670013  476.160004  476.160004   \n",
       "\n",
       "               Volume       50MDA     200MDA  \n",
       "Date                                          \n",
       "2015-10-16  114580100  198.635801  206.04220  \n",
       "2015-10-19   76523900  198.544201  206.03190  \n",
       "2015-10-20   78448500  198.395001  206.03885  \n",
       "2015-10-21  102038000  198.258601  206.04900  \n",
       "2015-10-22  174911700  198.185401  206.06375  \n",
       "...               ...         ...        ...  \n",
       "2021-12-23   56439700  461.747801  435.16185  \n",
       "2021-12-27   56808600  462.443001  435.57785  \n",
       "2021-12-28   47274600  463.063001  435.98015  \n",
       "2021-12-29   54503000  463.668801  436.38800  \n",
       "2021-12-30   55329000  464.179201  436.78250  \n",
       "\n",
       "[1563 rows x 8 columns]"
      ]
     },
     "execution_count": 101,
     "metadata": {},
     "output_type": "execute_result"
    }
   ],
   "source": [
    "sat2"
   ]
  },
  {
   "cell_type": "code",
   "execution_count": 102,
   "id": "356b79cc",
   "metadata": {},
   "outputs": [],
   "source": [
    "from sklearn.preprocessing import MinMaxScaler\n",
    "scaler2 = MinMaxScaler()\n",
    "scaler2.fit(sat2)\n",
    "scaled2 = scaler2.fit_transform(sat2)\n",
    "scaled_sat2 = pd.DataFrame(scaled2, columns=sat2.columns)"
   ]
  },
  {
   "cell_type": "code",
   "execution_count": 103,
   "id": "36f618a6",
   "metadata": {},
   "outputs": [
    {
     "data": {
      "text/html": [
       "<div>\n",
       "<style scoped>\n",
       "    .dataframe tbody tr th:only-of-type {\n",
       "        vertical-align: middle;\n",
       "    }\n",
       "\n",
       "    .dataframe tbody tr th {\n",
       "        vertical-align: top;\n",
       "    }\n",
       "\n",
       "    .dataframe thead th {\n",
       "        text-align: right;\n",
       "    }\n",
       "</style>\n",
       "<table border=\"1\" class=\"dataframe\">\n",
       "  <thead>\n",
       "    <tr style=\"text-align: right;\">\n",
       "      <th></th>\n",
       "      <th>Open</th>\n",
       "      <th>High</th>\n",
       "      <th>Low</th>\n",
       "      <th>Close</th>\n",
       "      <th>Adj Close</th>\n",
       "      <th>Volume</th>\n",
       "      <th>50MDA</th>\n",
       "      <th>200MDA</th>\n",
       "    </tr>\n",
       "  </thead>\n",
       "  <tbody>\n",
       "    <tr>\n",
       "      <th>0</th>\n",
       "      <td>0.069319</td>\n",
       "      <td>0.065073</td>\n",
       "      <td>0.070838</td>\n",
       "      <td>0.069276</td>\n",
       "      <td>0.054871</td>\n",
       "      <td>0.253555</td>\n",
       "      <td>0.020392</td>\n",
       "      <td>0.020729</td>\n",
       "    </tr>\n",
       "    <tr>\n",
       "      <th>1</th>\n",
       "      <td>0.068203</td>\n",
       "      <td>0.065344</td>\n",
       "      <td>0.071550</td>\n",
       "      <td>0.069615</td>\n",
       "      <td>0.055155</td>\n",
       "      <td>0.151240</td>\n",
       "      <td>0.020055</td>\n",
       "      <td>0.020685</td>\n",
       "    </tr>\n",
       "    <tr>\n",
       "      <th>2</th>\n",
       "      <td>0.069387</td>\n",
       "      <td>0.066938</td>\n",
       "      <td>0.072973</td>\n",
       "      <td>0.068733</td>\n",
       "      <td>0.054417</td>\n",
       "      <td>0.156415</td>\n",
       "      <td>0.019504</td>\n",
       "      <td>0.020715</td>\n",
       "    </tr>\n",
       "    <tr>\n",
       "      <th>3</th>\n",
       "      <td>0.071958</td>\n",
       "      <td>0.066768</td>\n",
       "      <td>0.069923</td>\n",
       "      <td>0.064456</td>\n",
       "      <td>0.050839</td>\n",
       "      <td>0.219836</td>\n",
       "      <td>0.019001</td>\n",
       "      <td>0.020758</td>\n",
       "    </tr>\n",
       "    <tr>\n",
       "      <th>4</th>\n",
       "      <td>0.069826</td>\n",
       "      <td>0.072601</td>\n",
       "      <td>0.070601</td>\n",
       "      <td>0.076030</td>\n",
       "      <td>0.060523</td>\n",
       "      <td>0.415759</td>\n",
       "      <td>0.018731</td>\n",
       "      <td>0.020820</td>\n",
       "    </tr>\n",
       "    <tr>\n",
       "      <th>...</th>\n",
       "      <td>...</td>\n",
       "      <td>...</td>\n",
       "      <td>...</td>\n",
       "      <td>...</td>\n",
       "      <td>...</td>\n",
       "      <td>...</td>\n",
       "      <td>...</td>\n",
       "      <td>...</td>\n",
       "    </tr>\n",
       "    <tr>\n",
       "      <th>1558</th>\n",
       "      <td>0.968943</td>\n",
       "      <td>0.976907</td>\n",
       "      <td>0.974851</td>\n",
       "      <td>0.976648</td>\n",
       "      <td>0.978064</td>\n",
       "      <td>0.097243</td>\n",
       "      <td>0.991030</td>\n",
       "      <td>0.993122</td>\n",
       "    </tr>\n",
       "    <tr>\n",
       "      <th>1559</th>\n",
       "      <td>0.980141</td>\n",
       "      <td>0.994269</td>\n",
       "      <td>0.986273</td>\n",
       "      <td>0.999253</td>\n",
       "      <td>0.999299</td>\n",
       "      <td>0.098235</td>\n",
       "      <td>0.993595</td>\n",
       "      <td>0.994887</td>\n",
       "    </tr>\n",
       "    <tr>\n",
       "      <th>1560</th>\n",
       "      <td>0.999290</td>\n",
       "      <td>0.999356</td>\n",
       "      <td>1.000000</td>\n",
       "      <td>0.997929</td>\n",
       "      <td>0.998055</td>\n",
       "      <td>0.072603</td>\n",
       "      <td>0.995882</td>\n",
       "      <td>0.996595</td>\n",
       "    </tr>\n",
       "    <tr>\n",
       "      <th>1561</th>\n",
       "      <td>0.996786</td>\n",
       "      <td>0.998508</td>\n",
       "      <td>0.999526</td>\n",
       "      <td>1.000000</td>\n",
       "      <td>1.000000</td>\n",
       "      <td>0.092036</td>\n",
       "      <td>0.998117</td>\n",
       "      <td>0.998326</td>\n",
       "    </tr>\n",
       "    <tr>\n",
       "      <th>1562</th>\n",
       "      <td>1.000000</td>\n",
       "      <td>1.000000</td>\n",
       "      <td>0.998678</td>\n",
       "      <td>0.995520</td>\n",
       "      <td>0.995791</td>\n",
       "      <td>0.094257</td>\n",
       "      <td>1.000000</td>\n",
       "      <td>1.000000</td>\n",
       "    </tr>\n",
       "  </tbody>\n",
       "</table>\n",
       "<p>1563 rows × 8 columns</p>\n",
       "</div>"
      ],
      "text/plain": [
       "          Open      High       Low     Close  Adj Close    Volume     50MDA  \\\n",
       "0     0.069319  0.065073  0.070838  0.069276   0.054871  0.253555  0.020392   \n",
       "1     0.068203  0.065344  0.071550  0.069615   0.055155  0.151240  0.020055   \n",
       "2     0.069387  0.066938  0.072973  0.068733   0.054417  0.156415  0.019504   \n",
       "3     0.071958  0.066768  0.069923  0.064456   0.050839  0.219836  0.019001   \n",
       "4     0.069826  0.072601  0.070601  0.076030   0.060523  0.415759  0.018731   \n",
       "...        ...       ...       ...       ...        ...       ...       ...   \n",
       "1558  0.968943  0.976907  0.974851  0.976648   0.978064  0.097243  0.991030   \n",
       "1559  0.980141  0.994269  0.986273  0.999253   0.999299  0.098235  0.993595   \n",
       "1560  0.999290  0.999356  1.000000  0.997929   0.998055  0.072603  0.995882   \n",
       "1561  0.996786  0.998508  0.999526  1.000000   1.000000  0.092036  0.998117   \n",
       "1562  1.000000  1.000000  0.998678  0.995520   0.995791  0.094257  1.000000   \n",
       "\n",
       "        200MDA  \n",
       "0     0.020729  \n",
       "1     0.020685  \n",
       "2     0.020715  \n",
       "3     0.020758  \n",
       "4     0.020820  \n",
       "...        ...  \n",
       "1558  0.993122  \n",
       "1559  0.994887  \n",
       "1560  0.996595  \n",
       "1561  0.998326  \n",
       "1562  1.000000  \n",
       "\n",
       "[1563 rows x 8 columns]"
      ]
     },
     "execution_count": 103,
     "metadata": {},
     "output_type": "execute_result"
    }
   ],
   "source": [
    "scaled_sat2"
   ]
  },
  {
   "cell_type": "code",
   "execution_count": 104,
   "id": "3efe9bd0",
   "metadata": {
    "scrolled": true
   },
   "outputs": [
    {
     "data": {
      "text/html": [
       "<div>\n",
       "<style scoped>\n",
       "    .dataframe tbody tr th:only-of-type {\n",
       "        vertical-align: middle;\n",
       "    }\n",
       "\n",
       "    .dataframe tbody tr th {\n",
       "        vertical-align: top;\n",
       "    }\n",
       "\n",
       "    .dataframe thead th {\n",
       "        text-align: right;\n",
       "    }\n",
       "</style>\n",
       "<table border=\"1\" class=\"dataframe\">\n",
       "  <thead>\n",
       "    <tr style=\"text-align: right;\">\n",
       "      <th></th>\n",
       "      <th>Open</th>\n",
       "      <th>High</th>\n",
       "      <th>Low</th>\n",
       "      <th>Close</th>\n",
       "      <th>Adj Close</th>\n",
       "      <th>Volume</th>\n",
       "      <th>50MDA</th>\n",
       "      <th>200MDA</th>\n",
       "    </tr>\n",
       "  </thead>\n",
       "  <tbody>\n",
       "    <tr>\n",
       "      <th>count</th>\n",
       "      <td>1563.000000</td>\n",
       "      <td>1563.000000</td>\n",
       "      <td>1563.000000</td>\n",
       "      <td>1563.000000</td>\n",
       "      <td>1563.000000</td>\n",
       "      <td>1563.000000</td>\n",
       "      <td>1563.000000</td>\n",
       "      <td>1563.000000</td>\n",
       "    </tr>\n",
       "    <tr>\n",
       "      <th>mean</th>\n",
       "      <td>0.369026</td>\n",
       "      <td>0.368912</td>\n",
       "      <td>0.368707</td>\n",
       "      <td>0.368644</td>\n",
       "      <td>0.364293</td>\n",
       "      <td>0.179575</td>\n",
       "      <td>0.347292</td>\n",
       "      <td>0.317461</td>\n",
       "    </tr>\n",
       "    <tr>\n",
       "      <th>std</th>\n",
       "      <td>0.243193</td>\n",
       "      <td>0.244803</td>\n",
       "      <td>0.242456</td>\n",
       "      <td>0.244038</td>\n",
       "      <td>0.248101</td>\n",
       "      <td>0.125074</td>\n",
       "      <td>0.253886</td>\n",
       "      <td>0.252980</td>\n",
       "    </tr>\n",
       "    <tr>\n",
       "      <th>min</th>\n",
       "      <td>0.000000</td>\n",
       "      <td>0.000000</td>\n",
       "      <td>0.000000</td>\n",
       "      <td>0.000000</td>\n",
       "      <td>0.000000</td>\n",
       "      <td>0.000000</td>\n",
       "      <td>0.000000</td>\n",
       "      <td>0.000000</td>\n",
       "    </tr>\n",
       "    <tr>\n",
       "      <th>25%</th>\n",
       "      <td>0.191008</td>\n",
       "      <td>0.187809</td>\n",
       "      <td>0.192160</td>\n",
       "      <td>0.189329</td>\n",
       "      <td>0.177227</td>\n",
       "      <td>0.099908</td>\n",
       "      <td>0.159898</td>\n",
       "      <td>0.099280</td>\n",
       "    </tr>\n",
       "    <tr>\n",
       "      <th>50%</th>\n",
       "      <td>0.323725</td>\n",
       "      <td>0.322923</td>\n",
       "      <td>0.322363</td>\n",
       "      <td>0.322653</td>\n",
       "      <td>0.314712</td>\n",
       "      <td>0.145319</td>\n",
       "      <td>0.300326</td>\n",
       "      <td>0.312172</td>\n",
       "    </tr>\n",
       "    <tr>\n",
       "      <th>75%</th>\n",
       "      <td>0.476691</td>\n",
       "      <td>0.481078</td>\n",
       "      <td>0.476766</td>\n",
       "      <td>0.478379</td>\n",
       "      <td>0.484544</td>\n",
       "      <td>0.215651</td>\n",
       "      <td>0.458083</td>\n",
       "      <td>0.432705</td>\n",
       "    </tr>\n",
       "    <tr>\n",
       "      <th>max</th>\n",
       "      <td>1.000000</td>\n",
       "      <td>1.000000</td>\n",
       "      <td>1.000000</td>\n",
       "      <td>1.000000</td>\n",
       "      <td>1.000000</td>\n",
       "      <td>1.000000</td>\n",
       "      <td>1.000000</td>\n",
       "      <td>1.000000</td>\n",
       "    </tr>\n",
       "  </tbody>\n",
       "</table>\n",
       "</div>"
      ],
      "text/plain": [
       "              Open         High          Low        Close    Adj Close  \\\n",
       "count  1563.000000  1563.000000  1563.000000  1563.000000  1563.000000   \n",
       "mean      0.369026     0.368912     0.368707     0.368644     0.364293   \n",
       "std       0.243193     0.244803     0.242456     0.244038     0.248101   \n",
       "min       0.000000     0.000000     0.000000     0.000000     0.000000   \n",
       "25%       0.191008     0.187809     0.192160     0.189329     0.177227   \n",
       "50%       0.323725     0.322923     0.322363     0.322653     0.314712   \n",
       "75%       0.476691     0.481078     0.476766     0.478379     0.484544   \n",
       "max       1.000000     1.000000     1.000000     1.000000     1.000000   \n",
       "\n",
       "            Volume        50MDA       200MDA  \n",
       "count  1563.000000  1563.000000  1563.000000  \n",
       "mean      0.179575     0.347292     0.317461  \n",
       "std       0.125074     0.253886     0.252980  \n",
       "min       0.000000     0.000000     0.000000  \n",
       "25%       0.099908     0.159898     0.099280  \n",
       "50%       0.145319     0.300326     0.312172  \n",
       "75%       0.215651     0.458083     0.432705  \n",
       "max       1.000000     1.000000     1.000000  "
      ]
     },
     "execution_count": 104,
     "metadata": {},
     "output_type": "execute_result"
    }
   ],
   "source": [
    "scaled_sat2.describe()"
   ]
  },
  {
   "cell_type": "code",
   "execution_count": 105,
   "id": "7bb4d9ab",
   "metadata": {},
   "outputs": [],
   "source": [
    "y2 = np.where(scaled_sat2['50MDA'].shift(-1) > scaled_sat2['200MDA'], 1, -1)"
   ]
  },
  {
   "cell_type": "code",
   "execution_count": 106,
   "id": "8ece6f13",
   "metadata": {},
   "outputs": [],
   "source": [
    "scaled_sat2['y2']=y2"
   ]
  },
  {
   "cell_type": "code",
   "execution_count": 107,
   "id": "d50b1ddd",
   "metadata": {},
   "outputs": [],
   "source": [
    "sat2=scaled_sat2.copy()"
   ]
  },
  {
   "cell_type": "code",
   "execution_count": 108,
   "id": "1dc22d84",
   "metadata": {},
   "outputs": [],
   "source": [
    "scaled_sat2=scaled_sat2.drop(columns=['Open','High','Low','Close','Adj Close','Volume'])"
   ]
  },
  {
   "cell_type": "code",
   "execution_count": 109,
   "id": "125adf2c",
   "metadata": {},
   "outputs": [
    {
     "data": {
      "text/html": [
       "<div>\n",
       "<style scoped>\n",
       "    .dataframe tbody tr th:only-of-type {\n",
       "        vertical-align: middle;\n",
       "    }\n",
       "\n",
       "    .dataframe tbody tr th {\n",
       "        vertical-align: top;\n",
       "    }\n",
       "\n",
       "    .dataframe thead th {\n",
       "        text-align: right;\n",
       "    }\n",
       "</style>\n",
       "<table border=\"1\" class=\"dataframe\">\n",
       "  <thead>\n",
       "    <tr style=\"text-align: right;\">\n",
       "      <th></th>\n",
       "      <th>50MDA</th>\n",
       "      <th>200MDA</th>\n",
       "      <th>y2</th>\n",
       "    </tr>\n",
       "  </thead>\n",
       "  <tbody>\n",
       "    <tr>\n",
       "      <th>0</th>\n",
       "      <td>0.020392</td>\n",
       "      <td>0.020729</td>\n",
       "      <td>-1</td>\n",
       "    </tr>\n",
       "    <tr>\n",
       "      <th>1</th>\n",
       "      <td>0.020055</td>\n",
       "      <td>0.020685</td>\n",
       "      <td>-1</td>\n",
       "    </tr>\n",
       "    <tr>\n",
       "      <th>2</th>\n",
       "      <td>0.019504</td>\n",
       "      <td>0.020715</td>\n",
       "      <td>-1</td>\n",
       "    </tr>\n",
       "    <tr>\n",
       "      <th>3</th>\n",
       "      <td>0.019001</td>\n",
       "      <td>0.020758</td>\n",
       "      <td>-1</td>\n",
       "    </tr>\n",
       "    <tr>\n",
       "      <th>4</th>\n",
       "      <td>0.018731</td>\n",
       "      <td>0.020820</td>\n",
       "      <td>-1</td>\n",
       "    </tr>\n",
       "    <tr>\n",
       "      <th>...</th>\n",
       "      <td>...</td>\n",
       "      <td>...</td>\n",
       "      <td>...</td>\n",
       "    </tr>\n",
       "    <tr>\n",
       "      <th>1558</th>\n",
       "      <td>0.991030</td>\n",
       "      <td>0.993122</td>\n",
       "      <td>1</td>\n",
       "    </tr>\n",
       "    <tr>\n",
       "      <th>1559</th>\n",
       "      <td>0.993595</td>\n",
       "      <td>0.994887</td>\n",
       "      <td>1</td>\n",
       "    </tr>\n",
       "    <tr>\n",
       "      <th>1560</th>\n",
       "      <td>0.995882</td>\n",
       "      <td>0.996595</td>\n",
       "      <td>1</td>\n",
       "    </tr>\n",
       "    <tr>\n",
       "      <th>1561</th>\n",
       "      <td>0.998117</td>\n",
       "      <td>0.998326</td>\n",
       "      <td>1</td>\n",
       "    </tr>\n",
       "    <tr>\n",
       "      <th>1562</th>\n",
       "      <td>1.000000</td>\n",
       "      <td>1.000000</td>\n",
       "      <td>-1</td>\n",
       "    </tr>\n",
       "  </tbody>\n",
       "</table>\n",
       "<p>1563 rows × 3 columns</p>\n",
       "</div>"
      ],
      "text/plain": [
       "         50MDA    200MDA  y2\n",
       "0     0.020392  0.020729  -1\n",
       "1     0.020055  0.020685  -1\n",
       "2     0.019504  0.020715  -1\n",
       "3     0.019001  0.020758  -1\n",
       "4     0.018731  0.020820  -1\n",
       "...        ...       ...  ..\n",
       "1558  0.991030  0.993122   1\n",
       "1559  0.993595  0.994887   1\n",
       "1560  0.995882  0.996595   1\n",
       "1561  0.998117  0.998326   1\n",
       "1562  1.000000  1.000000  -1\n",
       "\n",
       "[1563 rows x 3 columns]"
      ]
     },
     "execution_count": 109,
     "metadata": {},
     "output_type": "execute_result"
    }
   ],
   "source": [
    "scaled_sat2"
   ]
  },
  {
   "cell_type": "code",
   "execution_count": 110,
   "id": "4e68e48a",
   "metadata": {},
   "outputs": [
    {
     "data": {
      "text/plain": [
       "<AxesSubplot:>"
      ]
     },
     "execution_count": 110,
     "metadata": {},
     "output_type": "execute_result"
    },
    {
     "data": {
      "image/png": "[encoded data removed]",
      "text/plain": [
       "<Figure size 1152x432 with 1 Axes>"
      ]
     },
     "metadata": {
      "needs_background": "light"
     },
     "output_type": "display_data"
    }
   ],
   "source": [
    "scaled_sat2[['50MDA','200MDA']].plot(figsize=(16,6))"
   ]
  },
  {
   "cell_type": "code",
   "execution_count": 111,
   "id": "b4ebc67b",
   "metadata": {},
   "outputs": [],
   "source": [
    "y2=scaled_sat2['y2']\n",
    "x2=scaled_sat2.drop(columns=['y2'])"
   ]
  },
  {
   "cell_type": "markdown",
   "id": "29aa92ac",
   "metadata": {},
   "source": [
    "### Splitting data (80%:20%)"
   ]
  },
  {
   "cell_type": "code",
   "execution_count": 112,
   "id": "1724f0a6",
   "metadata": {},
   "outputs": [
    {
     "data": {
      "text/plain": [
       "((1250, 2), (313, 2), (1250,), (313,))"
      ]
     },
     "execution_count": 112,
     "metadata": {},
     "output_type": "execute_result"
    }
   ],
   "source": [
    "from sklearn.model_selection import train_test_split\n",
    "x2_train,x2_val,y2_train,y2_val=train_test_split(x2,y2,test_size=0.2,stratify=scaled_sat2['y2'],random_state=42)\n",
    "x2_train.shape,x2_val.shape,y2_train.shape,y2_val.shape"
   ]
  },
  {
   "cell_type": "markdown",
   "id": "a126e9ac",
   "metadata": {},
   "source": [
    "### KNeighborClassifier (neigh)"
   ]
  },
  {
   "cell_type": "code",
   "execution_count": 137,
   "id": "ed68ba19",
   "metadata": {},
   "outputs": [
    {
     "name": "stdout",
     "output_type": "stream",
     "text": [
      "Accuracy : 0.9936102236421726\n",
      "Precision : 1.0\n",
      "Recall : 0.9923664122137404\n",
      "F1 Score : 0.9961685823754789\n"
     ]
    }
   ],
   "source": [
    "from sklearn.neighbors import KNeighborsClassifier\n",
    "neigh2 = KNeighborsClassifier(n_neighbors=5)\n",
    "neigh.fit(x2_train, y2_train)\n",
    "neigh_preds2=neigh.predict(x2_val)\n",
    "print('Accuracy : {}'.format(accuracy_score(y2_val, neigh_preds2)))\n",
    "print('Precision : {}'.format(precision_score(y2_val,neigh_preds2)))\n",
    "print('Recall : {}'.format(recall_score(y2_val, neigh_preds2)))\n",
    "print('F1 Score : {}'.format(f1_score(y2_val, neigh_preds2)))"
   ]
  },
  {
   "cell_type": "code",
   "execution_count": 114,
   "id": "f1b782ea",
   "metadata": {},
   "outputs": [
    {
     "name": "stdout",
     "output_type": "stream",
     "text": [
      "Confusion Matrix Of KNeighbors :\n",
      " [[ 51   0]\n",
      " [  3 259]]\n"
     ]
    }
   ],
   "source": [
    "print('Confusion Matrix Of KNeighbors :\\n',(confusion_matrix(y2_val,neigh_preds)))"
   ]
  },
  {
   "cell_type": "markdown",
   "id": "eee35afb",
   "metadata": {},
   "source": [
    "### RandomForestClassifier (rf)"
   ]
  },
  {
   "cell_type": "code",
   "execution_count": 126,
   "id": "194ffdf4",
   "metadata": {},
   "outputs": [
    {
     "name": "stdout",
     "output_type": "stream",
     "text": [
      "Random Forest\n",
      "Accuracy : 0.9904153354632588\n",
      "Precision : 0.9961685823754789\n",
      "Recall : 0.9923664122137404\n",
      "F1 Score : 0.9942638623326959\n"
     ]
    }
   ],
   "source": [
    "from sklearn.ensemble import RandomForestClassifier\n",
    "rf2 = RandomForestClassifier(max_depth=None, random_state=0,n_estimators=100)\n",
    "rf.fit(x2_train, y2_train)\n",
    "rf_preds2=rf.predict(x2_val)\n",
    "print('Random Forest')\n",
    "print('Accuracy : {}'.format(accuracy_score(y2_val, rf_preds2)))\n",
    "print('Precision : {}'.format(precision_score(y2_val, rf_preds2)))\n",
    "print('Recall : {}'.format(recall_score(y2_val, rf_preds2)))\n",
    "print('F1 Score : {}'.format(f1_score(y2_val, rf_preds2)))"
   ]
  },
  {
   "cell_type": "code",
   "execution_count": 116,
   "id": "2af9373e",
   "metadata": {},
   "outputs": [
    {
     "name": "stdout",
     "output_type": "stream",
     "text": [
      "Confusion Matrix Of RandomForest :\n",
      " [[ 50   1]\n",
      " [  2 260]]\n"
     ]
    }
   ],
   "source": [
    "print('Confusion Matrix Of RandomForest :\\n',(confusion_matrix(y2_val,rf_preds)))"
   ]
  },
  {
   "cell_type": "markdown",
   "id": "1be55e96",
   "metadata": {},
   "source": [
    "###  GradientBoostingClassifier (gbc)"
   ]
  },
  {
   "cell_type": "code",
   "execution_count": 142,
   "id": "3b118937",
   "metadata": {},
   "outputs": [
    {
     "name": "stdout",
     "output_type": "stream",
     "text": [
      "Accuracy : 0.9936102236421726\n",
      "Precision : 0.9961832061068703\n",
      "Recall : 0.9961832061068703\n",
      "F1 Score : 0.9961832061068703\n"
     ]
    }
   ],
   "source": [
    "from sklearn.datasets import make_hastie_10_2\n",
    "from sklearn.ensemble import GradientBoostingClassifier\n",
    "gbc = GradientBoostingClassifier(n_estimators=100, learning_rate=1.0,max_depth=3, random_state=0)\n",
    "gbc.fit(x2_train, y2_train)\n",
    "gbc_preds=gbc.predict(x2_val)\n",
    "print('Accuracy : {}'.format(accuracy_score(y2_val, gbc_preds)))\n",
    "print('Precision : {}'.format(precision_score(y2_val, gbc_preds)))\n",
    "print('Recall : {}'.format(recall_score(y2_val, gbc_preds)))\n",
    "print('F1 Score : {}'.format(f1_score(y2_val, gbc_preds)))"
   ]
  },
  {
   "cell_type": "code",
   "execution_count": 118,
   "id": "915fd91a",
   "metadata": {},
   "outputs": [
    {
     "name": "stdout",
     "output_type": "stream",
     "text": [
      "Confusion Matrix Of GradientBoostingClassifier :\n",
      " [[ 50   1]\n",
      " [  2 260]]\n"
     ]
    }
   ],
   "source": [
    "print('Confusion Matrix Of GradientBoostingClassifier :\\n',(confusion_matrix(y2_val,gbc_preds)))"
   ]
  },
  {
   "cell_type": "markdown",
   "id": "b5c6c91d",
   "metadata": {},
   "source": [
    "### Support Vector Machines (SVMs) "
   ]
  },
  {
   "cell_type": "code",
   "execution_count": 119,
   "id": "66460dbc",
   "metadata": {},
   "outputs": [
    {
     "name": "stdout",
     "output_type": "stream",
     "text": [
      "Accuracy : 0.9488817891373802\n",
      "Precision : 0.948905109489051\n",
      "Recall : 0.9923664122137404\n",
      "F1 Score : 0.9701492537313432\n"
     ]
    }
   ],
   "source": [
    "from sklearn.pipeline import make_pipeline\n",
    "from sklearn.preprocessing import StandardScaler\n",
    "from sklearn.svm import SVC\n",
    "clf = make_pipeline(StandardScaler(), SVC())\n",
    "clf.fit(x2_train, y2_train)\n",
    "clf_preds=clf.predict(x2_val)\n",
    "print('Accuracy : {}'.format(accuracy_score(y2_val, clf_preds)))\n",
    "print('Precision : {}'.format(precision_score(y2_val, clf_preds)))\n",
    "print('Recall : {}'.format(recall_score(y2_val, clf_preds)))\n",
    "print('F1 Score : {}'.format(f1_score(y2_val, clf_preds)))"
   ]
  },
  {
   "cell_type": "code",
   "execution_count": 120,
   "id": "1fecc76d",
   "metadata": {},
   "outputs": [
    {
     "name": "stdout",
     "output_type": "stream",
     "text": [
      "Confusion Matrix Of Support Vector Machines :\n",
      " [[ 37  14]\n",
      " [  2 260]]\n"
     ]
    }
   ],
   "source": [
    "print('Confusion Matrix Of Support Vector Machines :\\n',(confusion_matrix(y2_val,clf_preds)))"
   ]
  },
  {
   "cell_type": "markdown",
   "id": "3dee5956",
   "metadata": {},
   "source": [
    "###  XGB Classifier(xgb)"
   ]
  },
  {
   "cell_type": "code",
   "execution_count": 145,
   "id": "d3e7654a",
   "metadata": {},
   "outputs": [
    {
     "name": "stdout",
     "output_type": "stream",
     "text": [
      "[20:25:16] WARNING: C:/Users/Administrator/workspace/xgboost-win64_release_1.5.1/src/learner.cc:1115: Starting in XGBoost 1.3.0, the default evaluation metric used with the objective 'binary:logistic' was changed from 'error' to 'logloss'. Explicitly set eval_metric if you'd like to restore the old behavior.\n",
      "Accuracy : 0.9904153354632588\n",
      "Precision : 1.0\n",
      "Recall : 0.9885496183206107\n",
      "F1 Score : 0.9942418426103647\n"
     ]
    },
    {
     "name": "stderr",
     "output_type": "stream",
     "text": [
      "C:\\Users\\rohit\\anaconda3\\lib\\site-packages\\xgboost\\sklearn.py:1224: UserWarning: The use of label encoder in XGBClassifier is deprecated and will be removed in a future release. To remove this warning, do the following: 1) Pass option use_label_encoder=False when constructing XGBClassifier object; and 2) Encode your labels (y) as integers starting with 0, i.e. 0, 1, 2, ..., [num_class - 1].\n",
      "  warnings.warn(label_encoder_deprecation_msg, UserWarning)\n"
     ]
    }
   ],
   "source": [
    "from xgboost import XGBClassifier\n",
    "xgb=XGBClassifier()\n",
    "xgb.fit(x2_train, y2_train)\n",
    "xgb_preds=xgb.predict(x2_val)\n",
    "print('Accuracy : {}'.format(accuracy_score(y2_val, xgb_preds)))\n",
    "print('Precision : {}'.format(precision_score(y2_val, xgb_preds)))\n",
    "print('Recall : {}'.format(recall_score(y2_val, xgb_preds)))\n",
    "print('F1 Score : {}'.format(f1_score(y2_val, xgb_preds)))"
   ]
  },
  {
   "cell_type": "code",
   "execution_count": 122,
   "id": "47e4c978",
   "metadata": {},
   "outputs": [
    {
     "name": "stdout",
     "output_type": "stream",
     "text": [
      "Confusion Matrix Of Gradient Boosting Classifier :\n",
      " [[ 51   0]\n",
      " [  3 259]]\n"
     ]
    }
   ],
   "source": [
    "print('Confusion Matrix Of Gradient Boosting Classifier :\\n',(confusion_matrix(y2_val,xgb_preds)))"
   ]
  },
  {
   "cell_type": "markdown",
   "id": "b00a4a1d",
   "metadata": {},
   "source": [
    "### Hyper Parameter Tunning"
   ]
  },
  {
   "cell_type": "code",
   "execution_count": 129,
   "id": "06627168",
   "metadata": {},
   "outputs": [
    {
     "name": "stdout",
     "output_type": "stream",
     "text": [
      "Accuracy : 0.987220447284345\n",
      "Precision : 0.9923664122137404\n",
      "Recall : 0.9923664122137404\n",
      "F1 Score : 0.9923664122137404\n"
     ]
    }
   ],
   "source": [
    "from sklearn.datasets import make_hastie_10_2\n",
    "from sklearn.ensemble import GradientBoostingClassifier\n",
    "gbc = GradientBoostingClassifier(n_estimators=100,learning_rate=1.0,max_depth=2, random_state=1)\n",
    "gbc.fit(x2_train, y2_train)\n",
    "gbc_preds1=gbc.predict(x2_val)\n",
    "print('Accuracy : {}'.format(accuracy_score(y2_val, gbc_preds1)))\n",
    "print('Precision : {}'.format(precision_score(y2_val, gbc_preds1)))\n",
    "print('Recall : {}'.format(recall_score(y2_val, gbc_preds1)))\n",
    "print('F1 Score : {}'.format(f1_score(y2_val, gbc_preds1)))"
   ]
  },
  {
   "cell_type": "code",
   "execution_count": 130,
   "id": "05ef43e8",
   "metadata": {},
   "outputs": [
    {
     "name": "stdout",
     "output_type": "stream",
     "text": [
      "Confusion Matrix Of GradientBoostingClassifier :\n",
      " [[ 49   2]\n",
      " [  2 260]]\n"
     ]
    }
   ],
   "source": [
    "print('Confusion Matrix Of GradientBoostingClassifier :\\n',(confusion_matrix(y2_val,gbc_preds1)))"
   ]
  },
  {
   "cell_type": "code",
   "execution_count": 143,
   "id": "6b0902b2",
   "metadata": {},
   "outputs": [
    {
     "name": "stdout",
     "output_type": "stream",
     "text": [
      "Accuracy : 0.9936102236421726\n",
      "Precision : 0.9961832061068703\n",
      "Recall : 0.9961832061068703\n",
      "F1 Score : 0.9961832061068703\n"
     ]
    }
   ],
   "source": [
    "from sklearn.datasets import make_hastie_10_2\n",
    "from sklearn.ensemble import GradientBoostingClassifier\n",
    "gbc = GradientBoostingClassifier(n_estimators=100,learning_rate=1.0,max_depth=4, random_state=1)\n",
    "gbc.fit(x2_train, y2_train)\n",
    "gbc_preds2=gbc.predict(x2_val)\n",
    "print('Accuracy : {}'.format(accuracy_score(y2_val, gbc_preds2)))\n",
    "print('Precision : {}'.format(precision_score(y2_val, gbc_preds2)))\n",
    "print('Recall : {}'.format(recall_score(y2_val, gbc_preds2)))\n",
    "print('F1 Score : {}'.format(f1_score(y2_val, gbc_preds2)))"
   ]
  },
  {
   "cell_type": "code",
   "execution_count": 131,
   "id": "e5881430",
   "metadata": {},
   "outputs": [
    {
     "name": "stdout",
     "output_type": "stream",
     "text": [
      "Confusion Matrix Of GradientBoostingClassifier :\n",
      " [[ 50   1]\n",
      " [  1 261]]\n"
     ]
    }
   ],
   "source": [
    "print('Confusion Matrix Of GradientBoostingClassifier :\\n',(confusion_matrix(y2_val,gbc_preds2)))"
   ]
  },
  {
   "cell_type": "code",
   "execution_count": 132,
   "id": "7e9877e9",
   "metadata": {},
   "outputs": [
    {
     "name": "stdout",
     "output_type": "stream",
     "text": [
      "Accuracy : 0.9904153354632588\n",
      "Precision : 0.9961685823754789\n",
      "Recall : 0.9923664122137404\n",
      "F1 Score : 0.9942638623326959\n"
     ]
    }
   ],
   "source": [
    "from sklearn.datasets import make_hastie_10_2\n",
    "from sklearn.ensemble import GradientBoostingClassifier\n",
    "gbc = GradientBoostingClassifier(n_estimators=100,learning_rate=1.0,max_depth=6,random_state=1)\n",
    "gbc.fit(x2_train, y2_train)\n",
    "gbc_preds3=gbc.predict(x2_val)\n",
    "print('Accuracy : {}'.format(accuracy_score(y2_val, gbc_preds3)))\n",
    "print('Precision : {}'.format(precision_score(y2_val, gbc_preds3)))\n",
    "print('Recall : {}'.format(recall_score(y2_val, gbc_preds3)))\n",
    "print('F1 Score : {}'.format(f1_score(y2_val, gbc_preds3)))"
   ]
  },
  {
   "cell_type": "code",
   "execution_count": 133,
   "id": "90334dce",
   "metadata": {},
   "outputs": [
    {
     "name": "stdout",
     "output_type": "stream",
     "text": [
      "Confusion Matrix Of GradientBoostingClassifier :\n",
      " [[ 50   1]\n",
      " [  2 260]]\n"
     ]
    }
   ],
   "source": [
    "print('Confusion Matrix Of GradientBoostingClassifier :\\n',(confusion_matrix(y2_val,gbc_preds3)))"
   ]
  },
  {
   "cell_type": "code",
   "execution_count": null,
   "id": "ee1347de",
   "metadata": {},
   "outputs": [],
   "source": []
  }
 ],
 "metadata": {
  "kernelspec": {
   "display_name": "Python 3 (ipykernel)",
   "language": "python",
   "name": "python3"
  },
  "language_info": {
   "codemirror_mode": {
    "name": "ipython",
    "version": 3
   },
   "file_extension": ".py",
   "mimetype": "text/x-python",
   "name": "python",
   "nbconvert_exporter": "python",
   "pygments_lexer": "ipython3",
   "version": "3.9.7"
  }
 },
 "nbformat": 4,
 "nbformat_minor": 5
}
